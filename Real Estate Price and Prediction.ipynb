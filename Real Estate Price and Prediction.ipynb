{
 "cells": [
  {
   "cell_type": "code",
   "execution_count": 1,
   "metadata": {},
   "outputs": [],
   "source": [
    "import pandas as pd\n",
    "import numpy as np\n",
    "import matplotlib.pyplot as plt\n",
    "%matplotlib inline\n",
    "import matplotlib\n",
    "matplotlib.rcParams[\"figure.figsize\"] = (20,10)"
   ]
  },
  {
   "cell_type": "code",
   "execution_count": 68,
   "metadata": {},
   "outputs": [
    {
     "data": {
      "text/html": [
       "<div>\n",
       "<style scoped>\n",
       "    .dataframe tbody tr th:only-of-type {\n",
       "        vertical-align: middle;\n",
       "    }\n",
       "\n",
       "    .dataframe tbody tr th {\n",
       "        vertical-align: top;\n",
       "    }\n",
       "\n",
       "    .dataframe thead th {\n",
       "        text-align: right;\n",
       "    }\n",
       "</style>\n",
       "<table border=\"1\" class=\"dataframe\">\n",
       "  <thead>\n",
       "    <tr style=\"text-align: right;\">\n",
       "      <th></th>\n",
       "      <th>area_type</th>\n",
       "      <th>location</th>\n",
       "      <th>Society</th>\n",
       "      <th>size</th>\n",
       "      <th>Baths</th>\n",
       "      <th>total_sqft</th>\n",
       "      <th>price</th>\n",
       "      <th>availability</th>\n",
       "      <th>Unnamed: 8</th>\n",
       "      <th>Unnamed: 9</th>\n",
       "    </tr>\n",
       "  </thead>\n",
       "  <tbody>\n",
       "    <tr>\n",
       "      <th>1266</th>\n",
       "      <td>NaN</td>\n",
       "      <td>Swargate</td>\n",
       "      <td>NaN</td>\n",
       "      <td>3 bhk</td>\n",
       "      <td>2.0</td>\n",
       "      <td>1820</td>\n",
       "      <td>86.00</td>\n",
       "      <td>NaN</td>\n",
       "      <td>NaN</td>\n",
       "      <td>NaN</td>\n",
       "    </tr>\n",
       "    <tr>\n",
       "      <th>516</th>\n",
       "      <td>Super built-up  Area</td>\n",
       "      <td>Katraj</td>\n",
       "      <td>NaN</td>\n",
       "      <td>2 bhk</td>\n",
       "      <td>2.0</td>\n",
       "      <td>1020</td>\n",
       "      <td>30.60</td>\n",
       "      <td>18-Jul</td>\n",
       "      <td>NaN</td>\n",
       "      <td>NaN</td>\n",
       "    </tr>\n",
       "    <tr>\n",
       "      <th>159</th>\n",
       "      <td>Super Built-up Area</td>\n",
       "      <td>Bibwewadi</td>\n",
       "      <td>Mahesh Society</td>\n",
       "      <td>2 bhk</td>\n",
       "      <td>2.0</td>\n",
       "      <td>800</td>\n",
       "      <td>65.00</td>\n",
       "      <td>Ready to Move</td>\n",
       "      <td>NaN</td>\n",
       "      <td>NaN</td>\n",
       "    </tr>\n",
       "    <tr>\n",
       "      <th>558</th>\n",
       "      <td>Built-up  Area</td>\n",
       "      <td>Katraj</td>\n",
       "      <td>NaN</td>\n",
       "      <td>3 bhk</td>\n",
       "      <td>3.0</td>\n",
       "      <td>1783</td>\n",
       "      <td>115.00</td>\n",
       "      <td>Ready To Move</td>\n",
       "      <td>NaN</td>\n",
       "      <td>NaN</td>\n",
       "    </tr>\n",
       "    <tr>\n",
       "      <th>899</th>\n",
       "      <td>NaN</td>\n",
       "      <td>Katraj</td>\n",
       "      <td>NaN</td>\n",
       "      <td>3 bhk</td>\n",
       "      <td>3.0</td>\n",
       "      <td>1804</td>\n",
       "      <td>120.00</td>\n",
       "      <td>NaN</td>\n",
       "      <td>NaN</td>\n",
       "      <td>NaN</td>\n",
       "    </tr>\n",
       "    <tr>\n",
       "      <th>161</th>\n",
       "      <td>Super Built-up Area</td>\n",
       "      <td>Padmavati</td>\n",
       "      <td>Padmavati apartment</td>\n",
       "      <td>2 bhk</td>\n",
       "      <td>2.0</td>\n",
       "      <td>1050</td>\n",
       "      <td>110.00</td>\n",
       "      <td>Ready to move</td>\n",
       "      <td>NaN</td>\n",
       "      <td>NaN</td>\n",
       "    </tr>\n",
       "    <tr>\n",
       "      <th>1353</th>\n",
       "      <td>NaN</td>\n",
       "      <td>Katraj</td>\n",
       "      <td>NaN</td>\n",
       "      <td>2 bhk</td>\n",
       "      <td>2.0</td>\n",
       "      <td>1153</td>\n",
       "      <td>57.00</td>\n",
       "      <td>NaN</td>\n",
       "      <td>NaN</td>\n",
       "      <td>NaN</td>\n",
       "    </tr>\n",
       "    <tr>\n",
       "      <th>1408</th>\n",
       "      <td>NaN</td>\n",
       "      <td>Bibwewadi</td>\n",
       "      <td>NaN</td>\n",
       "      <td>3 bhk</td>\n",
       "      <td>3.0</td>\n",
       "      <td>2376</td>\n",
       "      <td>203.00</td>\n",
       "      <td>NaN</td>\n",
       "      <td>NaN</td>\n",
       "      <td>NaN</td>\n",
       "    </tr>\n",
       "    <tr>\n",
       "      <th>389</th>\n",
       "      <td>Super built-up  Area</td>\n",
       "      <td>Bibwewadi</td>\n",
       "      <td>NaN</td>\n",
       "      <td>2 bhk</td>\n",
       "      <td>2.0</td>\n",
       "      <td>1151</td>\n",
       "      <td>48.77</td>\n",
       "      <td>17-Oct</td>\n",
       "      <td>NaN</td>\n",
       "      <td>NaN</td>\n",
       "    </tr>\n",
       "    <tr>\n",
       "      <th>1249</th>\n",
       "      <td>NaN</td>\n",
       "      <td>Dhankawadi</td>\n",
       "      <td>NaN</td>\n",
       "      <td>3 bhk</td>\n",
       "      <td>3.0</td>\n",
       "      <td>1790</td>\n",
       "      <td>100.00</td>\n",
       "      <td>NaN</td>\n",
       "      <td>NaN</td>\n",
       "      <td>NaN</td>\n",
       "    </tr>\n",
       "  </tbody>\n",
       "</table>\n",
       "</div>"
      ],
      "text/plain": [
       "                 area_type    location              Society   size  Baths  \\\n",
       "1266                   NaN    Swargate                  NaN  3 bhk    2.0   \n",
       "516   Super built-up  Area      Katraj                  NaN  2 bhk    2.0   \n",
       "159    Super Built-up Area   Bibwewadi       Mahesh Society  2 bhk    2.0   \n",
       "558         Built-up  Area      Katraj                  NaN  3 bhk    3.0   \n",
       "899                    NaN      Katraj                  NaN  3 bhk    3.0   \n",
       "161    Super Built-up Area   Padmavati  Padmavati apartment  2 bhk    2.0   \n",
       "1353                   NaN      Katraj                  NaN  2 bhk    2.0   \n",
       "1408                   NaN   Bibwewadi                  NaN  3 bhk    3.0   \n",
       "389   Super built-up  Area   Bibwewadi                  NaN  2 bhk    2.0   \n",
       "1249                   NaN  Dhankawadi                  NaN  3 bhk    3.0   \n",
       "\n",
       "     total_sqft   price   availability  Unnamed: 8 Unnamed: 9  \n",
       "1266       1820   86.00            NaN         NaN        NaN  \n",
       "516        1020   30.60         18-Jul         NaN        NaN  \n",
       "159         800   65.00  Ready to Move         NaN        NaN  \n",
       "558        1783  115.00  Ready To Move         NaN        NaN  \n",
       "899        1804  120.00            NaN         NaN        NaN  \n",
       "161        1050  110.00  Ready to move         NaN        NaN  \n",
       "1353       1153   57.00            NaN         NaN        NaN  \n",
       "1408       2376  203.00            NaN         NaN        NaN  \n",
       "389        1151   48.77         17-Oct         NaN        NaN  \n",
       "1249       1790  100.00            NaN         NaN        NaN  "
      ]
     },
     "execution_count": 68,
     "metadata": {},
     "output_type": "execute_result"
    }
   ],
   "source": [
    "df = pd.read_csv('House Data_Pune.csv')\n",
    "df.sample(10)"
   ]
  },
  {
   "cell_type": "code",
   "execution_count": 3,
   "metadata": {},
   "outputs": [
    {
     "data": {
      "text/plain": [
       "(1629, 10)"
      ]
     },
     "execution_count": 3,
     "metadata": {},
     "output_type": "execute_result"
    }
   ],
   "source": [
    "df.shape"
   ]
  },
  {
   "cell_type": "code",
   "execution_count": 4,
   "metadata": {},
   "outputs": [
    {
     "data": {
      "text/plain": [
       "area_type\n",
       "Built-up  Area           56\n",
       "Built-up Area           175\n",
       "Built-up area             4\n",
       "Carpet Area               3\n",
       "Plot  Area               42\n",
       "Plot Area                21\n",
       "Super Built-up Area     152\n",
       "Super built-up  Area    193\n",
       "Villa                     1\n",
       "Name: area_type, dtype: int64"
      ]
     },
     "execution_count": 4,
     "metadata": {},
     "output_type": "execute_result"
    }
   ],
   "source": [
    "df.groupby('area_type')['area_type'].agg('count')"
   ]
  },
  {
   "cell_type": "code",
   "execution_count": 5,
   "metadata": {},
   "outputs": [
    {
     "data": {
      "text/html": [
       "<div>\n",
       "<style scoped>\n",
       "    .dataframe tbody tr th:only-of-type {\n",
       "        vertical-align: middle;\n",
       "    }\n",
       "\n",
       "    .dataframe tbody tr th {\n",
       "        vertical-align: top;\n",
       "    }\n",
       "\n",
       "    .dataframe thead th {\n",
       "        text-align: right;\n",
       "    }\n",
       "</style>\n",
       "<table border=\"1\" class=\"dataframe\">\n",
       "  <thead>\n",
       "    <tr style=\"text-align: right;\">\n",
       "      <th></th>\n",
       "      <th>location</th>\n",
       "      <th>size</th>\n",
       "      <th>Baths</th>\n",
       "      <th>total_sqft</th>\n",
       "      <th>price</th>\n",
       "    </tr>\n",
       "  </thead>\n",
       "  <tbody>\n",
       "    <tr>\n",
       "      <th>0</th>\n",
       "      <td>Bavdhan</td>\n",
       "      <td>2 bhk</td>\n",
       "      <td>2.0</td>\n",
       "      <td>640</td>\n",
       "      <td>55.96</td>\n",
       "    </tr>\n",
       "    <tr>\n",
       "      <th>1</th>\n",
       "      <td>Sus</td>\n",
       "      <td>2 bhk</td>\n",
       "      <td>2.0</td>\n",
       "      <td>690-720</td>\n",
       "      <td>45.00</td>\n",
       "    </tr>\n",
       "    <tr>\n",
       "      <th>2</th>\n",
       "      <td>Tathawade</td>\n",
       "      <td>2 bhk</td>\n",
       "      <td>2.0</td>\n",
       "      <td>688-693</td>\n",
       "      <td>60.00</td>\n",
       "    </tr>\n",
       "    <tr>\n",
       "      <th>3</th>\n",
       "      <td>Koregaon Park</td>\n",
       "      <td>3 bhk</td>\n",
       "      <td>3.0</td>\n",
       "      <td>1659</td>\n",
       "      <td>210.00</td>\n",
       "    </tr>\n",
       "    <tr>\n",
       "      <th>4</th>\n",
       "      <td>Sinhgad Road</td>\n",
       "      <td>3 bhk</td>\n",
       "      <td>3.0</td>\n",
       "      <td>1450</td>\n",
       "      <td>78.00</td>\n",
       "    </tr>\n",
       "  </tbody>\n",
       "</table>\n",
       "</div>"
      ],
      "text/plain": [
       "        location   size  Baths total_sqft   price\n",
       "0        Bavdhan  2 bhk    2.0        640   55.96\n",
       "1            Sus  2 bhk    2.0   690-720    45.00\n",
       "2      Tathawade  2 bhk    2.0   688-693    60.00\n",
       "3  Koregaon Park  3 bhk    3.0       1659  210.00\n",
       "4   Sinhgad Road  3 bhk    3.0       1450   78.00"
      ]
     },
     "execution_count": 5,
     "metadata": {},
     "output_type": "execute_result"
    }
   ],
   "source": [
    "df1 = df.drop(['area_type', 'Society', 'availability', 'Unnamed: 8', 'Unnamed: 9'], axis='columns')\n",
    "df1.head()"
   ]
  },
  {
   "cell_type": "markdown",
   "metadata": {},
   "source": [
    "### Data Cleaning : Handling null values"
   ]
  },
  {
   "cell_type": "code",
   "execution_count": 6,
   "metadata": {},
   "outputs": [
    {
     "data": {
      "text/plain": [
       "location       0\n",
       "size           3\n",
       "Baths         13\n",
       "total_sqft     1\n",
       "price          0\n",
       "dtype: int64"
      ]
     },
     "execution_count": 6,
     "metadata": {},
     "output_type": "execute_result"
    }
   ],
   "source": [
    "df1.isnull().sum()"
   ]
  },
  {
   "cell_type": "code",
   "execution_count": 7,
   "metadata": {},
   "outputs": [
    {
     "data": {
      "text/plain": [
       "location      0\n",
       "size          0\n",
       "Baths         0\n",
       "total_sqft    0\n",
       "price         0\n",
       "dtype: int64"
      ]
     },
     "execution_count": 7,
     "metadata": {},
     "output_type": "execute_result"
    }
   ],
   "source": [
    "df2 = df1.dropna()\n",
    "df2.isna().sum()"
   ]
  },
  {
   "cell_type": "code",
   "execution_count": 8,
   "metadata": {},
   "outputs": [
    {
     "data": {
      "text/plain": [
       "(1616, 5)"
      ]
     },
     "execution_count": 8,
     "metadata": {},
     "output_type": "execute_result"
    }
   ],
   "source": [
    "df2.shape"
   ]
  },
  {
   "cell_type": "markdown",
   "metadata": {},
   "source": [
    "### Feature Engineering"
   ]
  },
  {
   "cell_type": "markdown",
   "metadata": {},
   "source": [
    "#### Add new feature (integer) for bhk"
   ]
  },
  {
   "cell_type": "code",
   "execution_count": 9,
   "metadata": {},
   "outputs": [
    {
     "data": {
      "text/plain": [
       "array(['2 bhk', '3 bhk', '1 bhk', '4 bhk', '5 bhk', '1 RK', '10 bhk',\n",
       "       '6 bhk', '7 bhk', '3', '1 rk', '1 Rk', '8 bhk', '1  bhk', '11 bhk',\n",
       "       '9 bhk'], dtype=object)"
      ]
     },
     "execution_count": 9,
     "metadata": {},
     "output_type": "execute_result"
    }
   ],
   "source": [
    "df2['size'].unique()"
   ]
  },
  {
   "cell_type": "code",
   "execution_count": 10,
   "metadata": {},
   "outputs": [
    {
     "name": "stderr",
     "output_type": "stream",
     "text": [
      "<ipython-input-10-f37298b81bba>:1: SettingWithCopyWarning: \n",
      "A value is trying to be set on a copy of a slice from a DataFrame.\n",
      "Try using .loc[row_indexer,col_indexer] = value instead\n",
      "\n",
      "See the caveats in the documentation: https://pandas.pydata.org/pandas-docs/stable/user_guide/indexing.html#returning-a-view-versus-a-copy\n",
      "  df2['bhk'] = df2['size'].apply(lambda x: int(x.split(' ')[0]))\n"
     ]
    },
    {
     "data": {
      "text/html": [
       "<div>\n",
       "<style scoped>\n",
       "    .dataframe tbody tr th:only-of-type {\n",
       "        vertical-align: middle;\n",
       "    }\n",
       "\n",
       "    .dataframe tbody tr th {\n",
       "        vertical-align: top;\n",
       "    }\n",
       "\n",
       "    .dataframe thead th {\n",
       "        text-align: right;\n",
       "    }\n",
       "</style>\n",
       "<table border=\"1\" class=\"dataframe\">\n",
       "  <thead>\n",
       "    <tr style=\"text-align: right;\">\n",
       "      <th></th>\n",
       "      <th>location</th>\n",
       "      <th>size</th>\n",
       "      <th>Baths</th>\n",
       "      <th>total_sqft</th>\n",
       "      <th>price</th>\n",
       "      <th>bhk</th>\n",
       "    </tr>\n",
       "  </thead>\n",
       "  <tbody>\n",
       "    <tr>\n",
       "      <th>0</th>\n",
       "      <td>Bavdhan</td>\n",
       "      <td>2 bhk</td>\n",
       "      <td>2.0</td>\n",
       "      <td>640</td>\n",
       "      <td>55.96</td>\n",
       "      <td>2</td>\n",
       "    </tr>\n",
       "    <tr>\n",
       "      <th>1</th>\n",
       "      <td>Sus</td>\n",
       "      <td>2 bhk</td>\n",
       "      <td>2.0</td>\n",
       "      <td>690-720</td>\n",
       "      <td>45.00</td>\n",
       "      <td>2</td>\n",
       "    </tr>\n",
       "    <tr>\n",
       "      <th>2</th>\n",
       "      <td>Tathawade</td>\n",
       "      <td>2 bhk</td>\n",
       "      <td>2.0</td>\n",
       "      <td>688-693</td>\n",
       "      <td>60.00</td>\n",
       "      <td>2</td>\n",
       "    </tr>\n",
       "    <tr>\n",
       "      <th>3</th>\n",
       "      <td>Koregaon Park</td>\n",
       "      <td>3 bhk</td>\n",
       "      <td>3.0</td>\n",
       "      <td>1659</td>\n",
       "      <td>210.00</td>\n",
       "      <td>3</td>\n",
       "    </tr>\n",
       "    <tr>\n",
       "      <th>4</th>\n",
       "      <td>Sinhgad Road</td>\n",
       "      <td>3 bhk</td>\n",
       "      <td>3.0</td>\n",
       "      <td>1450</td>\n",
       "      <td>78.00</td>\n",
       "      <td>3</td>\n",
       "    </tr>\n",
       "  </tbody>\n",
       "</table>\n",
       "</div>"
      ],
      "text/plain": [
       "        location   size  Baths total_sqft   price  bhk\n",
       "0        Bavdhan  2 bhk    2.0        640   55.96    2\n",
       "1            Sus  2 bhk    2.0   690-720    45.00    2\n",
       "2      Tathawade  2 bhk    2.0   688-693    60.00    2\n",
       "3  Koregaon Park  3 bhk    3.0       1659  210.00    3\n",
       "4   Sinhgad Road  3 bhk    3.0       1450   78.00    3"
      ]
     },
     "execution_count": 10,
     "metadata": {},
     "output_type": "execute_result"
    }
   ],
   "source": [
    "df2['bhk'] = df2['size'].apply(lambda x: int(x.split(' ')[0]))\n",
    "df2.head()"
   ]
  },
  {
   "cell_type": "code",
   "execution_count": 11,
   "metadata": {},
   "outputs": [
    {
     "data": {
      "text/plain": [
       "array([ 2,  3,  1,  4,  5, 10,  6,  7,  8, 11,  9], dtype=int64)"
      ]
     },
     "execution_count": 11,
     "metadata": {},
     "output_type": "execute_result"
    }
   ],
   "source": [
    "df2['bhk'].unique()"
   ]
  },
  {
   "cell_type": "code",
   "execution_count": 12,
   "metadata": {},
   "outputs": [
    {
     "data": {
      "text/html": [
       "<div>\n",
       "<style scoped>\n",
       "    .dataframe tbody tr th:only-of-type {\n",
       "        vertical-align: middle;\n",
       "    }\n",
       "\n",
       "    .dataframe tbody tr th {\n",
       "        vertical-align: top;\n",
       "    }\n",
       "\n",
       "    .dataframe thead th {\n",
       "        text-align: right;\n",
       "    }\n",
       "</style>\n",
       "<table border=\"1\" class=\"dataframe\">\n",
       "  <thead>\n",
       "    <tr style=\"text-align: right;\">\n",
       "      <th></th>\n",
       "      <th>location</th>\n",
       "      <th>size</th>\n",
       "      <th>Baths</th>\n",
       "      <th>total_sqft</th>\n",
       "      <th>price</th>\n",
       "      <th>bhk</th>\n",
       "    </tr>\n",
       "  </thead>\n",
       "  <tbody>\n",
       "    <tr>\n",
       "      <th>95</th>\n",
       "      <td>Koregaon Park</td>\n",
       "      <td>10 bhk</td>\n",
       "      <td>10.0</td>\n",
       "      <td>10000</td>\n",
       "      <td>1800.0</td>\n",
       "      <td>10</td>\n",
       "    </tr>\n",
       "    <tr>\n",
       "      <th>1089</th>\n",
       "      <td>Dhankawadi</td>\n",
       "      <td>11 bhk</td>\n",
       "      <td>9.0</td>\n",
       "      <td>5000</td>\n",
       "      <td>360.0</td>\n",
       "      <td>11</td>\n",
       "    </tr>\n",
       "  </tbody>\n",
       "</table>\n",
       "</div>"
      ],
      "text/plain": [
       "           location    size  Baths total_sqft   price  bhk\n",
       "95    Koregaon Park  10 bhk   10.0      10000  1800.0   10\n",
       "1089     Dhankawadi  11 bhk    9.0       5000   360.0   11"
      ]
     },
     "execution_count": 12,
     "metadata": {},
     "output_type": "execute_result"
    }
   ],
   "source": [
    "df2[df2.bhk>9]"
   ]
  },
  {
   "cell_type": "code",
   "execution_count": 13,
   "metadata": {},
   "outputs": [
    {
     "data": {
      "text/plain": [
       "array(['640', '690-720 ', '688-693 ', '1659', '1450', '1300', '850-950 ',\n",
       "       '1080', '650-750 ', '645-716 ', '346-384 ', '627-628 ', '573-606 ',\n",
       "       '850', '660', '500', '1140', '1020', '905', '1800', '1050', '2100',\n",
       "       '607', '605', '1620', '6000', '680', '865-1168 ', '350', '970',\n",
       "       '750', '1200', '450', '550', '635', '915', '460', '608', '1000',\n",
       "       '580', '1600', '950', '530', '525', '400', '820', '1109', '570',\n",
       "       '975', '633', '2500', '2600', '625', '1170', '2269', '2639', '620',\n",
       "       '667', '900', '2710', '1090', '601', '380', '930', '715', '420',\n",
       "       '2400', '494', '860', '600', '1250', '9440', '1270', '1610',\n",
       "       '5500', '2000', '2300', '1185', '10000', '1180', '1100', '1079',\n",
       "       '3000', '1500', '6280', '1054', '504', '1743.75', '661', '305',\n",
       "       '1431.6', '757', '835', '926', '914', '700', '822', '253', '1060',\n",
       "       '506', '720', '733', '800', '3065', '470', '718', '2308', '810',\n",
       "       '1106', '455', '1175-1748', '1309-1431', '1271', '1010', '540',\n",
       "       '528', '595', '670', '516', '560', '385', '590', '276', '602',\n",
       "       '545', '515', '617', '780', '610', '575', '648', '722', '527',\n",
       "       '586', '1055', '974', '878', '265', '410', '1151', '1670', '1164',\n",
       "       '430', '697', '619-726', '432-497', '658-694', '895-911',\n",
       "       '734-886', '767-795', '1067', '550-650', '678-864', '1009-1242',\n",
       "       '919', '875-894', '2450', '885', '808', '730', '1400', '817',\n",
       "       '1120', '634', '381', '1062', '3500', '1650', '656', '612', '998',\n",
       "       '3800', '582', '585', '630', '520', '763', '1107', '1115', '857',\n",
       "       '965', '1381', '1042', '1122', '929', '1349', '747', '1344', '920',\n",
       "       '1825', '790', '2200', '1440', '1591', '1850', '753', '837',\n",
       "       '2650', '325', '4000', '3300', '1700', '1056', '1521', '2732',\n",
       "       '1310', '2785', '2250', '1175', '1540', '2770', '1755', '2800',\n",
       "       '1767', '510', '1025', '2100 - 2850', '1075', '1760', '1693',\n",
       "       '1925', '1070', '1724', '1290', '1143', '1296', '1254', '1330.74',\n",
       "       '1459', '869', '2010', '1407', '840', '4395', '845', '5700',\n",
       "       '1160', '1220', '1350', '1005', '1358', '1569', '1240', '2089',\n",
       "       '1206', '1150', '2511', '4400', '1660', '1326', '1325', '1499',\n",
       "       '1665', '708', '710', '2894', '1330', '2502', '650', '1007', '966',\n",
       "       '1630', '1640', '782', '1260', '1413', '1116', '1530', '3700',\n",
       "       '2497', '1436', '1427', '2061', '3067 - 8156', '1282', '945',\n",
       "       '1870', '880', '1535', '1360', '1042 - 1105', '1280', '5000',\n",
       "       '3050', '1563.05', '1167', '1828', '890', '1612', '1034', '1710',\n",
       "       '957', '2795', '1125', '1735', '2050', '3750', '1063', '1904',\n",
       "       '4200', '1145 - 1340', '1425', '1470', '1152', '1550', '705',\n",
       "       '770', '1242', '2144', '1704', '1846', '1340', '1015 - 1540',\n",
       "       '1327', '1186', '1783', '980', '1285', '912', '1225', '1909',\n",
       "       '1359', '1763', '1305', '763 - 805', '1806', '1027', '1002',\n",
       "       '1308', '1232', '960', '1991', '1779', '10200', '870', '1595',\n",
       "       '1614', '3200', '1190', '4800', '1460', '3400', '2700', '1900',\n",
       "       '1520', '1432', '1309', '2251', '1565', '940', '1015', '1652',\n",
       "       '2340', '1084', '1207', '1736', '2850', '1798', '1475', '1580',\n",
       "       '1295', '3600', '589', '1415', '1787', '984', '2405', '805',\n",
       "       '1153', '1148', '1110', '1933', '645', '1644', '910', '1577',\n",
       "       '4050', '2420', '1108', '3045', '2900', '1162', '1035', '1464',\n",
       "       '1866', '1804', '913', '1868', '883', '1664', '2026', '1210',\n",
       "       '4111', '1762', '1252', '861', '1420', '1490', '1017', '1069',\n",
       "       '1417', '1863', '1847', '1438', '1560', '1113', '1385', '1128',\n",
       "       '2390', '1645', '1192', '2135', '1173', '3122', '1230', '11',\n",
       "       '1508', '1592', '1388', '3252', '1205', '1380', '2483', '1166',\n",
       "       '2023.71', '1935', '451', '1801', '1451', '1629', '1826', '1245',\n",
       "       '1145', '825', '1113.27', '1656', '1208', '1910', '12000', '1105',\n",
       "       '985', '1533', '1590', '1194', '1419', '2150', '11890', '1750',\n",
       "       '1404', '1715', '1752.12', '1346', '3309', '1130', '1320', '1753',\n",
       "       '4500', '1196', '1040', '1511', '1545', '375', '1195', '1246',\n",
       "       '8500', '2805', '1584', '1353', '1599', '5230', '1155', '1867',\n",
       "       '1251', '1028', '1222', '1372', '1135', '1768', '2610', '1286',\n",
       "       '2845', '3450', '1102', '1780', '2225', '1126', '4144', '2230',\n",
       "       '1544', '967', '1578', '1253', '961', '1709', '416', '1430',\n",
       "       '1249', '2791', '834', '2060', '891', '1133', '2440', '2160',\n",
       "       '4104', '1790', '1920', '1374', '1445', '711', '1720', '1030',\n",
       "       '1375', '469', '1820', '875', '4125', '2378', '3385', '1641',\n",
       "       '1120 - 1145', '1702', '1141', '2072', '3090 - 5002', '35000',\n",
       "       '1355', '1019', '1875', '1683', '1515', '2118', '1083', '1092',\n",
       "       '2264', '1033', '1045', '1337', '1570', '1855', '1823', '1094',\n",
       "       '1202', '1688', '1235', '3205', '1077', '2330', '425', '5270',\n",
       "       '1468', '4300', '2280', '1341', '1279', '2760', '1101', '775',\n",
       "       '735', '4360', '1215', '1160 - 1195', '1694', '2376', '1975',\n",
       "       '674', '445', '1618', '2181', '1556', '1179', '1275', '1615',\n",
       "       '1602', '1176', '675', '1352', '1717', '10961', '2119', '1157',\n",
       "       '1566', '2830', '1091', '3670', '918', '1950', '1695', '1705',\n",
       "       '1447', '1114', '1022', '3761', '1339', '1198', '1691',\n",
       "       '1115 - 1130', '2489', '1142', '1976', '1853', '1567', '995',\n",
       "       '884', '1342', '1345', '1740', '1278', '520 - 645', '1356', '823',\n",
       "       '1897', '1575', '686', '1410', '2238', '1174', '793', '1082',\n",
       "       '1001', '1554', '1000 - 1285', '4239', '1680', '2470', '2825',\n",
       "       '2480', '1799', '1047', '1495', '3260', '1611', '3206', '1639',\n",
       "       '1303', '650 - 665', '901', '1725', '1396', '1891', '1161',\n",
       "       '633 - 666', '315', '665', '1255'], dtype=object)"
      ]
     },
     "execution_count": 13,
     "metadata": {},
     "output_type": "execute_result"
    }
   ],
   "source": [
    "df2.total_sqft.unique()"
   ]
  },
  {
   "cell_type": "markdown",
   "metadata": {},
   "source": [
    "##### From above observations, we can see that the range of values in total_sqft column. For such case we can just take average of min and max value in the range."
   ]
  },
  {
   "cell_type": "code",
   "execution_count": 14,
   "metadata": {},
   "outputs": [],
   "source": [
    "def sqft_range_to_num(x):\n",
    "    tokens = x.split('-')\n",
    "    if len(tokens) == 2:\n",
    "        return(float(tokens[0])+float(tokens[1]))/2\n",
    "    try:\n",
    "        return float(x)\n",
    "    except:\n",
    "        return None"
   ]
  },
  {
   "cell_type": "code",
   "execution_count": 15,
   "metadata": {},
   "outputs": [
    {
     "data": {
      "text/plain": [
       "1339.0"
      ]
     },
     "execution_count": 15,
     "metadata": {},
     "output_type": "execute_result"
    }
   ],
   "source": [
    "sqft_range_to_num('1339')"
   ]
  },
  {
   "cell_type": "code",
   "execution_count": 16,
   "metadata": {},
   "outputs": [
    {
     "data": {
      "text/plain": [
       "1073.5"
      ]
     },
     "execution_count": 16,
     "metadata": {},
     "output_type": "execute_result"
    }
   ],
   "source": [
    "sqft_range_to_num('1042 - 1105')"
   ]
  },
  {
   "cell_type": "code",
   "execution_count": 17,
   "metadata": {},
   "outputs": [
    {
     "data": {
      "text/html": [
       "<div>\n",
       "<style scoped>\n",
       "    .dataframe tbody tr th:only-of-type {\n",
       "        vertical-align: middle;\n",
       "    }\n",
       "\n",
       "    .dataframe tbody tr th {\n",
       "        vertical-align: top;\n",
       "    }\n",
       "\n",
       "    .dataframe thead th {\n",
       "        text-align: right;\n",
       "    }\n",
       "</style>\n",
       "<table border=\"1\" class=\"dataframe\">\n",
       "  <thead>\n",
       "    <tr style=\"text-align: right;\">\n",
       "      <th></th>\n",
       "      <th>location</th>\n",
       "      <th>size</th>\n",
       "      <th>Baths</th>\n",
       "      <th>total_sqft</th>\n",
       "      <th>price</th>\n",
       "      <th>bhk</th>\n",
       "    </tr>\n",
       "  </thead>\n",
       "  <tbody>\n",
       "    <tr>\n",
       "      <th>0</th>\n",
       "      <td>Bavdhan</td>\n",
       "      <td>2 bhk</td>\n",
       "      <td>2.0</td>\n",
       "      <td>640.0</td>\n",
       "      <td>55.96</td>\n",
       "      <td>2</td>\n",
       "    </tr>\n",
       "    <tr>\n",
       "      <th>1</th>\n",
       "      <td>Sus</td>\n",
       "      <td>2 bhk</td>\n",
       "      <td>2.0</td>\n",
       "      <td>705.0</td>\n",
       "      <td>45.00</td>\n",
       "      <td>2</td>\n",
       "    </tr>\n",
       "    <tr>\n",
       "      <th>2</th>\n",
       "      <td>Tathawade</td>\n",
       "      <td>2 bhk</td>\n",
       "      <td>2.0</td>\n",
       "      <td>690.5</td>\n",
       "      <td>60.00</td>\n",
       "      <td>2</td>\n",
       "    </tr>\n",
       "    <tr>\n",
       "      <th>3</th>\n",
       "      <td>Koregaon Park</td>\n",
       "      <td>3 bhk</td>\n",
       "      <td>3.0</td>\n",
       "      <td>1659.0</td>\n",
       "      <td>210.00</td>\n",
       "      <td>3</td>\n",
       "    </tr>\n",
       "    <tr>\n",
       "      <th>4</th>\n",
       "      <td>Sinhgad Road</td>\n",
       "      <td>3 bhk</td>\n",
       "      <td>3.0</td>\n",
       "      <td>1450.0</td>\n",
       "      <td>78.00</td>\n",
       "      <td>3</td>\n",
       "    </tr>\n",
       "  </tbody>\n",
       "</table>\n",
       "</div>"
      ],
      "text/plain": [
       "        location   size  Baths  total_sqft   price  bhk\n",
       "0        Bavdhan  2 bhk    2.0       640.0   55.96    2\n",
       "1            Sus  2 bhk    2.0       705.0   45.00    2\n",
       "2      Tathawade  2 bhk    2.0       690.5   60.00    2\n",
       "3  Koregaon Park  3 bhk    3.0      1659.0  210.00    3\n",
       "4   Sinhgad Road  3 bhk    3.0      1450.0   78.00    3"
      ]
     },
     "execution_count": 17,
     "metadata": {},
     "output_type": "execute_result"
    }
   ],
   "source": [
    "df3 = df2.copy()\n",
    "df3['total_sqft'] = df3['total_sqft'].apply(sqft_range_to_num)\n",
    "df3.head()"
   ]
  },
  {
   "cell_type": "markdown",
   "metadata": {},
   "source": [
    "### Feature Engineering"
   ]
  },
  {
   "cell_type": "markdown",
   "metadata": {},
   "source": [
    "#### Add new feature called Price per square feet"
   ]
  },
  {
   "cell_type": "code",
   "execution_count": 18,
   "metadata": {},
   "outputs": [
    {
     "data": {
      "text/html": [
       "<div>\n",
       "<style scoped>\n",
       "    .dataframe tbody tr th:only-of-type {\n",
       "        vertical-align: middle;\n",
       "    }\n",
       "\n",
       "    .dataframe tbody tr th {\n",
       "        vertical-align: top;\n",
       "    }\n",
       "\n",
       "    .dataframe thead th {\n",
       "        text-align: right;\n",
       "    }\n",
       "</style>\n",
       "<table border=\"1\" class=\"dataframe\">\n",
       "  <thead>\n",
       "    <tr style=\"text-align: right;\">\n",
       "      <th></th>\n",
       "      <th>location</th>\n",
       "      <th>size</th>\n",
       "      <th>Baths</th>\n",
       "      <th>total_sqft</th>\n",
       "      <th>price</th>\n",
       "      <th>bhk</th>\n",
       "      <th>price_per_sqft</th>\n",
       "    </tr>\n",
       "  </thead>\n",
       "  <tbody>\n",
       "    <tr>\n",
       "      <th>0</th>\n",
       "      <td>Bavdhan</td>\n",
       "      <td>2 bhk</td>\n",
       "      <td>2.0</td>\n",
       "      <td>640.0</td>\n",
       "      <td>55.96</td>\n",
       "      <td>2</td>\n",
       "      <td>8743.750000</td>\n",
       "    </tr>\n",
       "    <tr>\n",
       "      <th>1</th>\n",
       "      <td>Sus</td>\n",
       "      <td>2 bhk</td>\n",
       "      <td>2.0</td>\n",
       "      <td>705.0</td>\n",
       "      <td>45.00</td>\n",
       "      <td>2</td>\n",
       "      <td>6382.978723</td>\n",
       "    </tr>\n",
       "    <tr>\n",
       "      <th>2</th>\n",
       "      <td>Tathawade</td>\n",
       "      <td>2 bhk</td>\n",
       "      <td>2.0</td>\n",
       "      <td>690.5</td>\n",
       "      <td>60.00</td>\n",
       "      <td>2</td>\n",
       "      <td>8689.355539</td>\n",
       "    </tr>\n",
       "    <tr>\n",
       "      <th>3</th>\n",
       "      <td>Koregaon Park</td>\n",
       "      <td>3 bhk</td>\n",
       "      <td>3.0</td>\n",
       "      <td>1659.0</td>\n",
       "      <td>210.00</td>\n",
       "      <td>3</td>\n",
       "      <td>12658.227848</td>\n",
       "    </tr>\n",
       "    <tr>\n",
       "      <th>4</th>\n",
       "      <td>Sinhgad Road</td>\n",
       "      <td>3 bhk</td>\n",
       "      <td>3.0</td>\n",
       "      <td>1450.0</td>\n",
       "      <td>78.00</td>\n",
       "      <td>3</td>\n",
       "      <td>5379.310345</td>\n",
       "    </tr>\n",
       "  </tbody>\n",
       "</table>\n",
       "</div>"
      ],
      "text/plain": [
       "        location   size  Baths  total_sqft   price  bhk  price_per_sqft\n",
       "0        Bavdhan  2 bhk    2.0       640.0   55.96    2     8743.750000\n",
       "1            Sus  2 bhk    2.0       705.0   45.00    2     6382.978723\n",
       "2      Tathawade  2 bhk    2.0       690.5   60.00    2     8689.355539\n",
       "3  Koregaon Park  3 bhk    3.0      1659.0  210.00    3    12658.227848\n",
       "4   Sinhgad Road  3 bhk    3.0      1450.0   78.00    3     5379.310345"
      ]
     },
     "execution_count": 18,
     "metadata": {},
     "output_type": "execute_result"
    }
   ],
   "source": [
    "df4 = df3.copy()\n",
    "df4['price_per_sqft'] = (df4['price']*100000)/df4['total_sqft']\n",
    "df4.head()"
   ]
  },
  {
   "cell_type": "markdown",
   "metadata": {},
   "source": [
    "#### Examine locations which is a categorical variable. We need to apply dimensionality reduction technique here to reduce number of locations"
   ]
  },
  {
   "cell_type": "code",
   "execution_count": 19,
   "metadata": {},
   "outputs": [
    {
     "data": {
      "text/plain": [
       "location\n",
       "Bibwewadi               242\n",
       "Katraj                  198\n",
       "Dhankawadi              197\n",
       "Swargate                133\n",
       "Koregaon Park           125\n",
       "Sinhgad Road            110\n",
       "Shivaji Nagar           101\n",
       "Hadapsar                 87\n",
       "Karve Nagar              71\n",
       "Baner                    45\n",
       "Balaji Nagar             41\n",
       "FC Road                  32\n",
       "Kondhwa                  31\n",
       "AB Chowk                 30\n",
       "Ambegaon                 24\n",
       "Amanora Town             21\n",
       "Padmavati                13\n",
       "Deccan Gymkhana          11\n",
       "Camp                     11\n",
       "Bund Garden              11\n",
       "Budhwar Peth             11\n",
       "Kothrud                  10\n",
       "Market yard              10\n",
       "Pune Railway Station     10\n",
       "Sahakar Nagar            10\n",
       "Model colony              8\n",
       "Bavdhan                   3\n",
       "Amanora town              2\n",
       "Hinjewadi                 2\n",
       "Meera nagar               2\n",
       "Sus                       2\n",
       "Vitthal nagar             1\n",
       "Vighnaharta Nagar         1\n",
       "Tathawade                 1\n",
       "Shivraj Nagar             1\n",
       "Moshi                     1\n",
       "Samarth Nagar             1\n",
       "Kundalahalli              1\n",
       "Mohan Nagar               1\n",
       "Kanchan Nagari            1\n",
       "Manjri                    1\n",
       "Mangdewadi                1\n",
       "Wakad                     1\n",
       "Name: location, dtype: int64"
      ]
     },
     "execution_count": 19,
     "metadata": {},
     "output_type": "execute_result"
    }
   ],
   "source": [
    "df4['location'] = df4['location'].apply(lambda x: x.strip())\n",
    "\n",
    "location_stats = df4.groupby('location')['location'].agg('count').sort_values(ascending=False)\n",
    "location_stats"
   ]
  },
  {
   "cell_type": "markdown",
   "metadata": {},
   "source": [
    "Any location having less than 10 data points should be tagged as \"other\" location. This way number of categories can be reduced by huge amount. Later on when we do one hot encoding, it will help us with having fewer dummy columns"
   ]
  },
  {
   "cell_type": "code",
   "execution_count": 20,
   "metadata": {},
   "outputs": [
    {
     "data": {
      "text/plain": [
       "22"
      ]
     },
     "execution_count": 20,
     "metadata": {},
     "output_type": "execute_result"
    }
   ],
   "source": [
    "len(location_stats[location_stats<=10])"
   ]
  },
  {
   "cell_type": "code",
   "execution_count": 21,
   "metadata": {},
   "outputs": [
    {
     "data": {
      "text/plain": [
       "location\n",
       "Kothrud                 10\n",
       "Market yard             10\n",
       "Pune Railway Station    10\n",
       "Sahakar Nagar           10\n",
       "Model colony             8\n",
       "Bavdhan                  3\n",
       "Amanora town             2\n",
       "Hinjewadi                2\n",
       "Meera nagar              2\n",
       "Sus                      2\n",
       "Vitthal nagar            1\n",
       "Vighnaharta Nagar        1\n",
       "Tathawade                1\n",
       "Shivraj Nagar            1\n",
       "Moshi                    1\n",
       "Samarth Nagar            1\n",
       "Kundalahalli             1\n",
       "Mohan Nagar              1\n",
       "Kanchan Nagari           1\n",
       "Manjri                   1\n",
       "Mangdewadi               1\n",
       "Wakad                    1\n",
       "Name: location, dtype: int64"
      ]
     },
     "execution_count": 21,
     "metadata": {},
     "output_type": "execute_result"
    }
   ],
   "source": [
    "location_stats_less_than10 = location_stats[location_stats<=10]\n",
    "location_stats_less_than10"
   ]
  },
  {
   "cell_type": "code",
   "execution_count": 22,
   "metadata": {},
   "outputs": [
    {
     "data": {
      "text/plain": [
       "43"
      ]
     },
     "execution_count": 22,
     "metadata": {},
     "output_type": "execute_result"
    }
   ],
   "source": [
    "len(df4.location.unique())"
   ]
  },
  {
   "cell_type": "code",
   "execution_count": 23,
   "metadata": {},
   "outputs": [
    {
     "data": {
      "text/plain": [
       "22"
      ]
     },
     "execution_count": 23,
     "metadata": {},
     "output_type": "execute_result"
    }
   ],
   "source": [
    "df4['location'] = df4['location'].apply(lambda x: 'other' if x in location_stats_less_than10 else x)\n",
    "len(df4.location.unique())"
   ]
  },
  {
   "cell_type": "code",
   "execution_count": 24,
   "metadata": {},
   "outputs": [
    {
     "data": {
      "text/html": [
       "<div>\n",
       "<style scoped>\n",
       "    .dataframe tbody tr th:only-of-type {\n",
       "        vertical-align: middle;\n",
       "    }\n",
       "\n",
       "    .dataframe tbody tr th {\n",
       "        vertical-align: top;\n",
       "    }\n",
       "\n",
       "    .dataframe thead th {\n",
       "        text-align: right;\n",
       "    }\n",
       "</style>\n",
       "<table border=\"1\" class=\"dataframe\">\n",
       "  <thead>\n",
       "    <tr style=\"text-align: right;\">\n",
       "      <th></th>\n",
       "      <th>location</th>\n",
       "      <th>size</th>\n",
       "      <th>Baths</th>\n",
       "      <th>total_sqft</th>\n",
       "      <th>price</th>\n",
       "      <th>bhk</th>\n",
       "      <th>price_per_sqft</th>\n",
       "    </tr>\n",
       "  </thead>\n",
       "  <tbody>\n",
       "    <tr>\n",
       "      <th>0</th>\n",
       "      <td>other</td>\n",
       "      <td>2 bhk</td>\n",
       "      <td>2.0</td>\n",
       "      <td>640.0</td>\n",
       "      <td>55.96</td>\n",
       "      <td>2</td>\n",
       "      <td>8743.750000</td>\n",
       "    </tr>\n",
       "    <tr>\n",
       "      <th>1</th>\n",
       "      <td>other</td>\n",
       "      <td>2 bhk</td>\n",
       "      <td>2.0</td>\n",
       "      <td>705.0</td>\n",
       "      <td>45.00</td>\n",
       "      <td>2</td>\n",
       "      <td>6382.978723</td>\n",
       "    </tr>\n",
       "    <tr>\n",
       "      <th>2</th>\n",
       "      <td>other</td>\n",
       "      <td>2 bhk</td>\n",
       "      <td>2.0</td>\n",
       "      <td>690.5</td>\n",
       "      <td>60.00</td>\n",
       "      <td>2</td>\n",
       "      <td>8689.355539</td>\n",
       "    </tr>\n",
       "    <tr>\n",
       "      <th>3</th>\n",
       "      <td>Koregaon Park</td>\n",
       "      <td>3 bhk</td>\n",
       "      <td>3.0</td>\n",
       "      <td>1659.0</td>\n",
       "      <td>210.00</td>\n",
       "      <td>3</td>\n",
       "      <td>12658.227848</td>\n",
       "    </tr>\n",
       "    <tr>\n",
       "      <th>4</th>\n",
       "      <td>Sinhgad Road</td>\n",
       "      <td>3 bhk</td>\n",
       "      <td>3.0</td>\n",
       "      <td>1450.0</td>\n",
       "      <td>78.00</td>\n",
       "      <td>3</td>\n",
       "      <td>5379.310345</td>\n",
       "    </tr>\n",
       "  </tbody>\n",
       "</table>\n",
       "</div>"
      ],
      "text/plain": [
       "        location   size  Baths  total_sqft   price  bhk  price_per_sqft\n",
       "0          other  2 bhk    2.0       640.0   55.96    2     8743.750000\n",
       "1          other  2 bhk    2.0       705.0   45.00    2     6382.978723\n",
       "2          other  2 bhk    2.0       690.5   60.00    2     8689.355539\n",
       "3  Koregaon Park  3 bhk    3.0      1659.0  210.00    3    12658.227848\n",
       "4   Sinhgad Road  3 bhk    3.0      1450.0   78.00    3     5379.310345"
      ]
     },
     "execution_count": 24,
     "metadata": {},
     "output_type": "execute_result"
    }
   ],
   "source": [
    "df4.head()"
   ]
  },
  {
   "cell_type": "markdown",
   "metadata": {},
   "source": [
    "## Outlier Removal using Business Logic"
   ]
  },
  {
   "cell_type": "markdown",
   "metadata": {},
   "source": [
    "As a Data Scientist when we have conversation with our Business Manager (who has expertise in real estate), he will tell us that normally square feet per bedroom is 300 (i.e. 2bhk apartment is having minimum 600sqft). If we have less than that then we have to remove that case causing errors. We will remove such outliers by keeping minimum threshold per bhk to be 300sqft."
   ]
  },
  {
   "cell_type": "code",
   "execution_count": 25,
   "metadata": {},
   "outputs": [
    {
     "data": {
      "text/html": [
       "<div>\n",
       "<style scoped>\n",
       "    .dataframe tbody tr th:only-of-type {\n",
       "        vertical-align: middle;\n",
       "    }\n",
       "\n",
       "    .dataframe tbody tr th {\n",
       "        vertical-align: top;\n",
       "    }\n",
       "\n",
       "    .dataframe thead th {\n",
       "        text-align: right;\n",
       "    }\n",
       "</style>\n",
       "<table border=\"1\" class=\"dataframe\">\n",
       "  <thead>\n",
       "    <tr style=\"text-align: right;\">\n",
       "      <th></th>\n",
       "      <th>location</th>\n",
       "      <th>size</th>\n",
       "      <th>Baths</th>\n",
       "      <th>total_sqft</th>\n",
       "      <th>price</th>\n",
       "      <th>bhk</th>\n",
       "      <th>price_per_sqft</th>\n",
       "    </tr>\n",
       "  </thead>\n",
       "  <tbody>\n",
       "    <tr>\n",
       "      <th>13</th>\n",
       "      <td>Baner</td>\n",
       "      <td>2 bhk</td>\n",
       "      <td>2.0</td>\n",
       "      <td>589.5</td>\n",
       "      <td>69.0</td>\n",
       "      <td>2</td>\n",
       "      <td>11704.834606</td>\n",
       "    </tr>\n",
       "    <tr>\n",
       "      <th>100</th>\n",
       "      <td>other</td>\n",
       "      <td>7 bhk</td>\n",
       "      <td>7.0</td>\n",
       "      <td>1100.0</td>\n",
       "      <td>110.0</td>\n",
       "      <td>7</td>\n",
       "      <td>10000.000000</td>\n",
       "    </tr>\n",
       "    <tr>\n",
       "      <th>101</th>\n",
       "      <td>other</td>\n",
       "      <td>5 bhk</td>\n",
       "      <td>3.0</td>\n",
       "      <td>1000.0</td>\n",
       "      <td>110.0</td>\n",
       "      <td>5</td>\n",
       "      <td>11000.000000</td>\n",
       "    </tr>\n",
       "    <tr>\n",
       "      <th>102</th>\n",
       "      <td>Hadapsar</td>\n",
       "      <td>5 bhk</td>\n",
       "      <td>3.0</td>\n",
       "      <td>1079.0</td>\n",
       "      <td>61.0</td>\n",
       "      <td>5</td>\n",
       "      <td>5653.382762</td>\n",
       "    </tr>\n",
       "    <tr>\n",
       "      <th>103</th>\n",
       "      <td>Hadapsar</td>\n",
       "      <td>5 bhk</td>\n",
       "      <td>5.0</td>\n",
       "      <td>1000.0</td>\n",
       "      <td>72.0</td>\n",
       "      <td>5</td>\n",
       "      <td>7200.000000</td>\n",
       "    </tr>\n",
       "    <tr>\n",
       "      <th>...</th>\n",
       "      <td>...</td>\n",
       "      <td>...</td>\n",
       "      <td>...</td>\n",
       "      <td>...</td>\n",
       "      <td>...</td>\n",
       "      <td>...</td>\n",
       "      <td>...</td>\n",
       "    </tr>\n",
       "    <tr>\n",
       "      <th>1576</th>\n",
       "      <td>Sinhgad Road</td>\n",
       "      <td>4 bhk</td>\n",
       "      <td>3.0</td>\n",
       "      <td>1080.0</td>\n",
       "      <td>155.0</td>\n",
       "      <td>4</td>\n",
       "      <td>14351.851852</td>\n",
       "    </tr>\n",
       "    <tr>\n",
       "      <th>1586</th>\n",
       "      <td>Hadapsar</td>\n",
       "      <td>4 bhk</td>\n",
       "      <td>4.0</td>\n",
       "      <td>700.0</td>\n",
       "      <td>72.0</td>\n",
       "      <td>4</td>\n",
       "      <td>10285.714286</td>\n",
       "    </tr>\n",
       "    <tr>\n",
       "      <th>1591</th>\n",
       "      <td>Ambegaon</td>\n",
       "      <td>3 bhk</td>\n",
       "      <td>4.0</td>\n",
       "      <td>600.0</td>\n",
       "      <td>95.0</td>\n",
       "      <td>3</td>\n",
       "      <td>15833.333333</td>\n",
       "    </tr>\n",
       "    <tr>\n",
       "      <th>1606</th>\n",
       "      <td>Dhankawadi</td>\n",
       "      <td>6 bhk</td>\n",
       "      <td>4.0</td>\n",
       "      <td>1200.0</td>\n",
       "      <td>225.0</td>\n",
       "      <td>6</td>\n",
       "      <td>18750.000000</td>\n",
       "    </tr>\n",
       "    <tr>\n",
       "      <th>1622</th>\n",
       "      <td>Hadapsar</td>\n",
       "      <td>4 bhk</td>\n",
       "      <td>4.0</td>\n",
       "      <td>315.0</td>\n",
       "      <td>90.0</td>\n",
       "      <td>4</td>\n",
       "      <td>28571.428571</td>\n",
       "    </tr>\n",
       "  </tbody>\n",
       "</table>\n",
       "<p>83 rows × 7 columns</p>\n",
       "</div>"
      ],
      "text/plain": [
       "          location   size  Baths  total_sqft  price  bhk  price_per_sqft\n",
       "13           Baner  2 bhk    2.0       589.5   69.0    2    11704.834606\n",
       "100          other  7 bhk    7.0      1100.0  110.0    7    10000.000000\n",
       "101          other  5 bhk    3.0      1000.0  110.0    5    11000.000000\n",
       "102       Hadapsar  5 bhk    3.0      1079.0   61.0    5     5653.382762\n",
       "103       Hadapsar  5 bhk    5.0      1000.0   72.0    5     7200.000000\n",
       "...            ...    ...    ...         ...    ...  ...             ...\n",
       "1576  Sinhgad Road  4 bhk    3.0      1080.0  155.0    4    14351.851852\n",
       "1586      Hadapsar  4 bhk    4.0       700.0   72.0    4    10285.714286\n",
       "1591      Ambegaon  3 bhk    4.0       600.0   95.0    3    15833.333333\n",
       "1606    Dhankawadi  6 bhk    4.0      1200.0  225.0    6    18750.000000\n",
       "1622      Hadapsar  4 bhk    4.0       315.0   90.0    4    28571.428571\n",
       "\n",
       "[83 rows x 7 columns]"
      ]
     },
     "execution_count": 25,
     "metadata": {},
     "output_type": "execute_result"
    }
   ],
   "source": [
    "df4[df4.total_sqft/df4.bhk<300]"
   ]
  },
  {
   "cell_type": "code",
   "execution_count": 26,
   "metadata": {},
   "outputs": [
    {
     "data": {
      "text/plain": [
       "(1533, 7)"
      ]
     },
     "execution_count": 26,
     "metadata": {},
     "output_type": "execute_result"
    }
   ],
   "source": [
    "df5 = df4[~(df4.total_sqft/df4.bhk<300)]\n",
    "df5.shape"
   ]
  },
  {
   "cell_type": "markdown",
   "metadata": {},
   "source": [
    "## Outlier Removal Using Standard Deviation and Mean"
   ]
  },
  {
   "cell_type": "code",
   "execution_count": 27,
   "metadata": {},
   "outputs": [
    {
     "data": {
      "text/plain": [
       "count     1533.000000\n",
       "mean      6610.855214\n",
       "std       3345.276378\n",
       "min        371.428571\n",
       "25%       4444.444444\n",
       "50%       5681.818182\n",
       "75%       7550.200803\n",
       "max      30000.000000\n",
       "Name: price_per_sqft, dtype: float64"
      ]
     },
     "execution_count": 27,
     "metadata": {},
     "output_type": "execute_result"
    }
   ],
   "source": [
    "df5.price_per_sqft.describe()"
   ]
  },
  {
   "cell_type": "markdown",
   "metadata": {},
   "source": [
    "##### Here we find that min price per sqft is 371 rs/sqft whereas max is 30000, this shows a wide variation in property prices. We should remove outliers per location using mean and one standard deviation"
   ]
  },
  {
   "cell_type": "code",
   "execution_count": 28,
   "metadata": {},
   "outputs": [
    {
     "data": {
      "text/plain": [
       "(1208, 7)"
      ]
     },
     "execution_count": 28,
     "metadata": {},
     "output_type": "execute_result"
    }
   ],
   "source": [
    "def remove_pps_outliers(dd):\n",
    "    dd_out = pd.DataFrame()\n",
    "    for key, subdd in dd.groupby('location'):\n",
    "        m = np.mean(subdd.price_per_sqft)\n",
    "        st = np.std(subdd.price_per_sqft)\n",
    "        reduced_dd = subdd[(subdd.price_per_sqft>(m-st)) & (subdd.price_per_sqft<=(m+st))]\n",
    "        dd_out = pd.concat([dd_out,reduced_dd],ignore_index=True)\n",
    "    return dd_out\n",
    "df6 = remove_pps_outliers(df5)\n",
    "df6.shape"
   ]
  },
  {
   "cell_type": "markdown",
   "metadata": {},
   "source": [
    "#### Let's check if for a given location how does the 2 BHK and 3 BHK property prices look like"
   ]
  },
  {
   "cell_type": "code",
   "execution_count": 29,
   "metadata": {},
   "outputs": [
    {
     "data": {
      "image/png": "[encoded data removed]",
      "text/plain": [
       "<Figure size 1080x720 with 1 Axes>"
      ]
     },
     "metadata": {
      "needs_background": "light"
     },
     "output_type": "display_data"
    }
   ],
   "source": [
    "def plot_scatter_chart(dd,location):\n",
    "    bhk2 = dd[(dd.location==location) & (dd.bhk==2)]\n",
    "    bhk3 = dd[(dd.location==location) & (dd.bhk==3)]\n",
    "    matplotlib.rcParams['figure.figsize'] = (15,10)\n",
    "    plt.scatter(bhk2.total_sqft,bhk2.price,color='blue',label='2 BHK', s=50)\n",
    "    plt.scatter(bhk3.total_sqft,bhk3.price,marker='+', color='green',label='3 BHK', s=50)\n",
    "    plt.xlabel(\"Total Square Feet Area\")\n",
    "    plt.ylabel(\"Price (Lakh Indian Rupees)\")\n",
    "    plt.title(location)\n",
    "    plt.legend()\n",
    "    \n",
    "plot_scatter_chart(df6,\"Baner\")"
   ]
  },
  {
   "cell_type": "code",
   "execution_count": 30,
   "metadata": {},
   "outputs": [
    {
     "data": {
      "image/png": "[encoded data removed]",
      "text/plain": [
       "<Figure size 1080x720 with 1 Axes>"
      ]
     },
     "metadata": {
      "needs_background": "light"
     },
     "output_type": "display_data"
    }
   ],
   "source": [
    "plot_scatter_chart(df6,\"Hadapsar\")"
   ]
  },
  {
   "cell_type": "markdown",
   "metadata": {},
   "source": [
    "We should also remove the properties for same location, the price of (for example) 3 bedroom apartment is less than 2 bedroom apartment (with same square ft area)."
   ]
  },
  {
   "cell_type": "markdown",
   "metadata": {},
   "source": [
    "#### Now we can remove those 2 BHK apartments whose price_per_sqft is less than mean price_per_sqft of 1 BHK apartment"
   ]
  },
  {
   "cell_type": "code",
   "execution_count": 31,
   "metadata": {},
   "outputs": [
    {
     "data": {
      "text/plain": [
       "(859, 7)"
      ]
     },
     "execution_count": 31,
     "metadata": {},
     "output_type": "execute_result"
    }
   ],
   "source": [
    "def remove_bhk_outliers(dd):\n",
    "    exclude_indices = np.array([])\n",
    "    for location, location_dd in dd.groupby('location'):\n",
    "        bhk_stats = {}\n",
    "        for bhk, bhk_dd in location_dd.groupby('bhk'):\n",
    "            bhk_stats[bhk] = {\n",
    "                'mean': np.mean(bhk_dd.price_per_sqft),\n",
    "                'std': np.std(bhk_dd.price_per_sqft),\n",
    "                'count': bhk_dd.shape[0]\n",
    "            }\n",
    "        for bhk, bhk_dd in location_dd.groupby('bhk'):\n",
    "            stats = bhk_stats.get(bhk-1)\n",
    "            if stats and stats['count']>5:\n",
    "                exclude_indices = np.append(exclude_indices, bhk_dd[bhk_dd.price_per_sqft<(stats['mean'])].index.values)\n",
    "    return dd.drop(exclude_indices,axis='index')\n",
    "df7 = remove_bhk_outliers(df6)\n",
    "df7.shape"
   ]
  },
  {
   "cell_type": "markdown",
   "metadata": {},
   "source": [
    "#### Plot same scatter chart again to visualize price_per_sqft for 2 BHK and 3 BHK properties"
   ]
  },
  {
   "cell_type": "code",
   "execution_count": 32,
   "metadata": {},
   "outputs": [
    {
     "data": {
      "image/png": "[encoded data removed]",
      "text/plain": [
       "<Figure size 1080x720 with 1 Axes>"
      ]
     },
     "metadata": {
      "needs_background": "light"
     },
     "output_type": "display_data"
    }
   ],
   "source": [
    "plot_scatter_chart(df7,\"Baner\")"
   ]
  },
  {
   "cell_type": "code",
   "execution_count": 33,
   "metadata": {},
   "outputs": [
    {
     "data": {
      "image/png": "[encoded data removed]",
      "text/plain": [
       "<Figure size 1080x720 with 1 Axes>"
      ]
     },
     "metadata": {
      "needs_background": "light"
     },
     "output_type": "display_data"
    }
   ],
   "source": [
    "plot_scatter_chart(df7,\"Hadapsar\")"
   ]
  },
  {
   "cell_type": "code",
   "execution_count": 34,
   "metadata": {},
   "outputs": [
    {
     "data": {
      "text/plain": [
       "Text(0, 0.5, 'Count')"
      ]
     },
     "execution_count": 34,
     "metadata": {},
     "output_type": "execute_result"
    },
    {
     "data": {
      "image/png": "[encoded data removed]",
      "text/plain": [
       "<Figure size 1440x720 with 1 Axes>"
      ]
     },
     "metadata": {
      "needs_background": "light"
     },
     "output_type": "display_data"
    }
   ],
   "source": [
    "import matplotlib\n",
    "matplotlib.rcParams[\"figure.figsize\"] = (20,10)\n",
    "plt.hist(df7.price_per_sqft,rwidth=0.8)\n",
    "plt.xlabel(\"Price Per Square Feet\")\n",
    "plt.ylabel(\"Count\")"
   ]
  },
  {
   "cell_type": "markdown",
   "metadata": {},
   "source": [
    "## Outlier Removal Using Bathrooms Feature"
   ]
  },
  {
   "cell_type": "code",
   "execution_count": 35,
   "metadata": {},
   "outputs": [
    {
     "data": {
      "text/plain": [
       "array([2., 1., 3., 4., 5., 7., 6., 8., 9.])"
      ]
     },
     "execution_count": 35,
     "metadata": {},
     "output_type": "execute_result"
    }
   ],
   "source": [
    "df7.Baths.unique()"
   ]
  },
  {
   "cell_type": "code",
   "execution_count": 36,
   "metadata": {},
   "outputs": [
    {
     "data": {
      "text/plain": [
       "Text(0, 0.5, 'Count')"
      ]
     },
     "execution_count": 36,
     "metadata": {},
     "output_type": "execute_result"
    },
    {
     "data": {
      "image/png": "[encoded data removed]",
      "text/plain": [
       "<Figure size 1440x720 with 1 Axes>"
      ]
     },
     "metadata": {
      "needs_background": "light"
     },
     "output_type": "display_data"
    }
   ],
   "source": [
    "plt.hist(df7.Baths,rwidth=0.8)\n",
    "plt.xlabel(\"Number of bathrooms\")\n",
    "plt.ylabel(\"Count\")"
   ]
  },
  {
   "cell_type": "code",
   "execution_count": 37,
   "metadata": {},
   "outputs": [
    {
     "data": {
      "text/html": [
       "<div>\n",
       "<style scoped>\n",
       "    .dataframe tbody tr th:only-of-type {\n",
       "        vertical-align: middle;\n",
       "    }\n",
       "\n",
       "    .dataframe tbody tr th {\n",
       "        vertical-align: top;\n",
       "    }\n",
       "\n",
       "    .dataframe thead th {\n",
       "        text-align: right;\n",
       "    }\n",
       "</style>\n",
       "<table border=\"1\" class=\"dataframe\">\n",
       "  <thead>\n",
       "    <tr style=\"text-align: right;\">\n",
       "      <th></th>\n",
       "      <th>location</th>\n",
       "      <th>size</th>\n",
       "      <th>Baths</th>\n",
       "      <th>total_sqft</th>\n",
       "      <th>price</th>\n",
       "      <th>bhk</th>\n",
       "      <th>price_per_sqft</th>\n",
       "    </tr>\n",
       "  </thead>\n",
       "  <tbody>\n",
       "    <tr>\n",
       "      <th>396</th>\n",
       "      <td>Dhankawadi</td>\n",
       "      <td>8 bhk</td>\n",
       "      <td>8.0</td>\n",
       "      <td>3000.0</td>\n",
       "      <td>140.0</td>\n",
       "      <td>8</td>\n",
       "      <td>4666.666667</td>\n",
       "    </tr>\n",
       "    <tr>\n",
       "      <th>405</th>\n",
       "      <td>Dhankawadi</td>\n",
       "      <td>8 bhk</td>\n",
       "      <td>8.0</td>\n",
       "      <td>5000.0</td>\n",
       "      <td>250.0</td>\n",
       "      <td>8</td>\n",
       "      <td>5000.000000</td>\n",
       "    </tr>\n",
       "    <tr>\n",
       "      <th>441</th>\n",
       "      <td>Dhankawadi</td>\n",
       "      <td>11 bhk</td>\n",
       "      <td>9.0</td>\n",
       "      <td>5000.0</td>\n",
       "      <td>360.0</td>\n",
       "      <td>11</td>\n",
       "      <td>7200.000000</td>\n",
       "    </tr>\n",
       "    <tr>\n",
       "      <th>718</th>\n",
       "      <td>Katraj</td>\n",
       "      <td>8 bhk</td>\n",
       "      <td>8.0</td>\n",
       "      <td>2600.0</td>\n",
       "      <td>180.0</td>\n",
       "      <td>8</td>\n",
       "      <td>6923.076923</td>\n",
       "    </tr>\n",
       "    <tr>\n",
       "      <th>767</th>\n",
       "      <td>Kondhwa</td>\n",
       "      <td>8 bhk</td>\n",
       "      <td>8.0</td>\n",
       "      <td>5000.0</td>\n",
       "      <td>250.0</td>\n",
       "      <td>8</td>\n",
       "      <td>5000.000000</td>\n",
       "    </tr>\n",
       "    <tr>\n",
       "      <th>867</th>\n",
       "      <td>Koregaon Park</td>\n",
       "      <td>9 bhk</td>\n",
       "      <td>9.0</td>\n",
       "      <td>4125.0</td>\n",
       "      <td>265.0</td>\n",
       "      <td>9</td>\n",
       "      <td>6424.242424</td>\n",
       "    </tr>\n",
       "    <tr>\n",
       "      <th>886</th>\n",
       "      <td>Padmavati</td>\n",
       "      <td>8 bhk</td>\n",
       "      <td>8.0</td>\n",
       "      <td>3000.0</td>\n",
       "      <td>140.0</td>\n",
       "      <td>8</td>\n",
       "      <td>4666.666667</td>\n",
       "    </tr>\n",
       "    <tr>\n",
       "      <th>1104</th>\n",
       "      <td>Swargate</td>\n",
       "      <td>9 bhk</td>\n",
       "      <td>9.0</td>\n",
       "      <td>5000.0</td>\n",
       "      <td>210.0</td>\n",
       "      <td>9</td>\n",
       "      <td>4200.000000</td>\n",
       "    </tr>\n",
       "  </tbody>\n",
       "</table>\n",
       "</div>"
      ],
      "text/plain": [
       "           location    size  Baths  total_sqft  price  bhk  price_per_sqft\n",
       "396      Dhankawadi   8 bhk    8.0      3000.0  140.0    8     4666.666667\n",
       "405      Dhankawadi   8 bhk    8.0      5000.0  250.0    8     5000.000000\n",
       "441      Dhankawadi  11 bhk    9.0      5000.0  360.0   11     7200.000000\n",
       "718          Katraj   8 bhk    8.0      2600.0  180.0    8     6923.076923\n",
       "767         Kondhwa   8 bhk    8.0      5000.0  250.0    8     5000.000000\n",
       "867   Koregaon Park   9 bhk    9.0      4125.0  265.0    9     6424.242424\n",
       "886       Padmavati   8 bhk    8.0      3000.0  140.0    8     4666.666667\n",
       "1104       Swargate   9 bhk    9.0      5000.0  210.0    9     4200.000000"
      ]
     },
     "execution_count": 37,
     "metadata": {},
     "output_type": "execute_result"
    }
   ],
   "source": [
    "df7[df7.Baths>7]"
   ]
  },
  {
   "cell_type": "markdown",
   "metadata": {},
   "source": [
    "It is unusual to have 1 more bathrooms than number of bedrooms in a home"
   ]
  },
  {
   "cell_type": "code",
   "execution_count": 38,
   "metadata": {},
   "outputs": [
    {
     "data": {
      "text/html": [
       "<div>\n",
       "<style scoped>\n",
       "    .dataframe tbody tr th:only-of-type {\n",
       "        vertical-align: middle;\n",
       "    }\n",
       "\n",
       "    .dataframe tbody tr th {\n",
       "        vertical-align: top;\n",
       "    }\n",
       "\n",
       "    .dataframe thead th {\n",
       "        text-align: right;\n",
       "    }\n",
       "</style>\n",
       "<table border=\"1\" class=\"dataframe\">\n",
       "  <thead>\n",
       "    <tr style=\"text-align: right;\">\n",
       "      <th></th>\n",
       "      <th>location</th>\n",
       "      <th>size</th>\n",
       "      <th>Baths</th>\n",
       "      <th>total_sqft</th>\n",
       "      <th>price</th>\n",
       "      <th>bhk</th>\n",
       "      <th>price_per_sqft</th>\n",
       "    </tr>\n",
       "  </thead>\n",
       "  <tbody>\n",
       "  </tbody>\n",
       "</table>\n",
       "</div>"
      ],
      "text/plain": [
       "Empty DataFrame\n",
       "Columns: [location, size, Baths, total_sqft, price, bhk, price_per_sqft]\n",
       "Index: []"
      ]
     },
     "execution_count": 38,
     "metadata": {},
     "output_type": "execute_result"
    }
   ],
   "source": [
    "df7[df7.Baths>df7.bhk+2]"
   ]
  },
  {
   "cell_type": "markdown",
   "metadata": {},
   "source": [
    "Again the business manager has a conversation with us (i.e. a data scientist) that if we have 4 bedroom home and even if we have bathroom in all 4 rooms plus one guest bathroom, you will have total bath = total bed + 1 max. Anything above that is an outlier or a data error and can be removed"
   ]
  },
  {
   "cell_type": "code",
   "execution_count": 39,
   "metadata": {},
   "outputs": [
    {
     "data": {
      "text/plain": [
       "(853, 7)"
      ]
     },
     "execution_count": 39,
     "metadata": {},
     "output_type": "execute_result"
    }
   ],
   "source": [
    "df8 = df7[df7.Baths<df7.bhk+2]\n",
    "df8.shape"
   ]
  },
  {
   "cell_type": "code",
   "execution_count": 40,
   "metadata": {},
   "outputs": [
    {
     "data": {
      "text/html": [
       "<div>\n",
       "<style scoped>\n",
       "    .dataframe tbody tr th:only-of-type {\n",
       "        vertical-align: middle;\n",
       "    }\n",
       "\n",
       "    .dataframe tbody tr th {\n",
       "        vertical-align: top;\n",
       "    }\n",
       "\n",
       "    .dataframe thead th {\n",
       "        text-align: right;\n",
       "    }\n",
       "</style>\n",
       "<table border=\"1\" class=\"dataframe\">\n",
       "  <thead>\n",
       "    <tr style=\"text-align: right;\">\n",
       "      <th></th>\n",
       "      <th>location</th>\n",
       "      <th>size</th>\n",
       "      <th>Baths</th>\n",
       "      <th>total_sqft</th>\n",
       "      <th>price</th>\n",
       "      <th>bhk</th>\n",
       "      <th>price_per_sqft</th>\n",
       "    </tr>\n",
       "  </thead>\n",
       "  <tbody>\n",
       "    <tr>\n",
       "      <th>0</th>\n",
       "      <td>AB Chowk</td>\n",
       "      <td>2 bhk</td>\n",
       "      <td>2.0</td>\n",
       "      <td>1143.0</td>\n",
       "      <td>45.000</td>\n",
       "      <td>2</td>\n",
       "      <td>3937.007874</td>\n",
       "    </tr>\n",
       "    <tr>\n",
       "      <th>1</th>\n",
       "      <td>AB Chowk</td>\n",
       "      <td>1 bhk</td>\n",
       "      <td>1.0</td>\n",
       "      <td>600.0</td>\n",
       "      <td>38.000</td>\n",
       "      <td>1</td>\n",
       "      <td>6333.333333</td>\n",
       "    </tr>\n",
       "    <tr>\n",
       "      <th>2</th>\n",
       "      <td>AB Chowk</td>\n",
       "      <td>2 bhk</td>\n",
       "      <td>2.0</td>\n",
       "      <td>950.0</td>\n",
       "      <td>57.000</td>\n",
       "      <td>2</td>\n",
       "      <td>6000.000000</td>\n",
       "    </tr>\n",
       "    <tr>\n",
       "      <th>3</th>\n",
       "      <td>AB Chowk</td>\n",
       "      <td>2 bhk</td>\n",
       "      <td>2.0</td>\n",
       "      <td>1073.5</td>\n",
       "      <td>54.005</td>\n",
       "      <td>2</td>\n",
       "      <td>5030.740568</td>\n",
       "    </tr>\n",
       "    <tr>\n",
       "      <th>5</th>\n",
       "      <td>AB Chowk</td>\n",
       "      <td>2 bhk</td>\n",
       "      <td>2.0</td>\n",
       "      <td>1148.0</td>\n",
       "      <td>60.000</td>\n",
       "      <td>2</td>\n",
       "      <td>5226.480836</td>\n",
       "    </tr>\n",
       "  </tbody>\n",
       "</table>\n",
       "</div>"
      ],
      "text/plain": [
       "   location   size  Baths  total_sqft   price  bhk  price_per_sqft\n",
       "0  AB Chowk  2 bhk    2.0      1143.0  45.000    2     3937.007874\n",
       "1  AB Chowk  1 bhk    1.0       600.0  38.000    1     6333.333333\n",
       "2  AB Chowk  2 bhk    2.0       950.0  57.000    2     6000.000000\n",
       "3  AB Chowk  2 bhk    2.0      1073.5  54.005    2     5030.740568\n",
       "5  AB Chowk  2 bhk    2.0      1148.0  60.000    2     5226.480836"
      ]
     },
     "execution_count": 40,
     "metadata": {},
     "output_type": "execute_result"
    }
   ],
   "source": [
    "df8.head()"
   ]
  },
  {
   "cell_type": "code",
   "execution_count": 41,
   "metadata": {},
   "outputs": [
    {
     "data": {
      "text/html": [
       "<div>\n",
       "<style scoped>\n",
       "    .dataframe tbody tr th:only-of-type {\n",
       "        vertical-align: middle;\n",
       "    }\n",
       "\n",
       "    .dataframe tbody tr th {\n",
       "        vertical-align: top;\n",
       "    }\n",
       "\n",
       "    .dataframe thead th {\n",
       "        text-align: right;\n",
       "    }\n",
       "</style>\n",
       "<table border=\"1\" class=\"dataframe\">\n",
       "  <thead>\n",
       "    <tr style=\"text-align: right;\">\n",
       "      <th></th>\n",
       "      <th>location</th>\n",
       "      <th>Baths</th>\n",
       "      <th>total_sqft</th>\n",
       "      <th>price</th>\n",
       "      <th>bhk</th>\n",
       "    </tr>\n",
       "  </thead>\n",
       "  <tbody>\n",
       "    <tr>\n",
       "      <th>0</th>\n",
       "      <td>AB Chowk</td>\n",
       "      <td>2.0</td>\n",
       "      <td>1143.0</td>\n",
       "      <td>45.000</td>\n",
       "      <td>2</td>\n",
       "    </tr>\n",
       "    <tr>\n",
       "      <th>1</th>\n",
       "      <td>AB Chowk</td>\n",
       "      <td>1.0</td>\n",
       "      <td>600.0</td>\n",
       "      <td>38.000</td>\n",
       "      <td>1</td>\n",
       "    </tr>\n",
       "    <tr>\n",
       "      <th>2</th>\n",
       "      <td>AB Chowk</td>\n",
       "      <td>2.0</td>\n",
       "      <td>950.0</td>\n",
       "      <td>57.000</td>\n",
       "      <td>2</td>\n",
       "    </tr>\n",
       "    <tr>\n",
       "      <th>3</th>\n",
       "      <td>AB Chowk</td>\n",
       "      <td>2.0</td>\n",
       "      <td>1073.5</td>\n",
       "      <td>54.005</td>\n",
       "      <td>2</td>\n",
       "    </tr>\n",
       "    <tr>\n",
       "      <th>5</th>\n",
       "      <td>AB Chowk</td>\n",
       "      <td>2.0</td>\n",
       "      <td>1148.0</td>\n",
       "      <td>60.000</td>\n",
       "      <td>2</td>\n",
       "    </tr>\n",
       "  </tbody>\n",
       "</table>\n",
       "</div>"
      ],
      "text/plain": [
       "   location  Baths  total_sqft   price  bhk\n",
       "0  AB Chowk    2.0      1143.0  45.000    2\n",
       "1  AB Chowk    1.0       600.0  38.000    1\n",
       "2  AB Chowk    2.0       950.0  57.000    2\n",
       "3  AB Chowk    2.0      1073.5  54.005    2\n",
       "5  AB Chowk    2.0      1148.0  60.000    2"
      ]
     },
     "execution_count": 41,
     "metadata": {},
     "output_type": "execute_result"
    }
   ],
   "source": [
    "df9 = df8.drop(['size', 'price_per_sqft'], axis='columns')\n",
    "df9.head()"
   ]
  },
  {
   "cell_type": "markdown",
   "metadata": {},
   "source": [
    "## Use One Hot Encoding For Location"
   ]
  },
  {
   "cell_type": "markdown",
   "metadata": {},
   "source": [
    "To convert the column location from categorical into numerical format we are using one hot encoding"
   ]
  },
  {
   "cell_type": "code",
   "execution_count": 42,
   "metadata": {},
   "outputs": [
    {
     "data": {
      "text/html": [
       "<div>\n",
       "<style scoped>\n",
       "    .dataframe tbody tr th:only-of-type {\n",
       "        vertical-align: middle;\n",
       "    }\n",
       "\n",
       "    .dataframe tbody tr th {\n",
       "        vertical-align: top;\n",
       "    }\n",
       "\n",
       "    .dataframe thead th {\n",
       "        text-align: right;\n",
       "    }\n",
       "</style>\n",
       "<table border=\"1\" class=\"dataframe\">\n",
       "  <thead>\n",
       "    <tr style=\"text-align: right;\">\n",
       "      <th></th>\n",
       "      <th>AB Chowk</th>\n",
       "      <th>Amanora Town</th>\n",
       "      <th>Ambegaon</th>\n",
       "      <th>Balaji Nagar</th>\n",
       "      <th>Baner</th>\n",
       "      <th>Bibwewadi</th>\n",
       "      <th>Budhwar Peth</th>\n",
       "      <th>Bund Garden</th>\n",
       "      <th>Camp</th>\n",
       "      <th>Deccan Gymkhana</th>\n",
       "      <th>...</th>\n",
       "      <th>Hadapsar</th>\n",
       "      <th>Karve Nagar</th>\n",
       "      <th>Katraj</th>\n",
       "      <th>Kondhwa</th>\n",
       "      <th>Koregaon Park</th>\n",
       "      <th>Padmavati</th>\n",
       "      <th>Shivaji Nagar</th>\n",
       "      <th>Sinhgad Road</th>\n",
       "      <th>Swargate</th>\n",
       "      <th>other</th>\n",
       "    </tr>\n",
       "  </thead>\n",
       "  <tbody>\n",
       "    <tr>\n",
       "      <th>0</th>\n",
       "      <td>1</td>\n",
       "      <td>0</td>\n",
       "      <td>0</td>\n",
       "      <td>0</td>\n",
       "      <td>0</td>\n",
       "      <td>0</td>\n",
       "      <td>0</td>\n",
       "      <td>0</td>\n",
       "      <td>0</td>\n",
       "      <td>0</td>\n",
       "      <td>...</td>\n",
       "      <td>0</td>\n",
       "      <td>0</td>\n",
       "      <td>0</td>\n",
       "      <td>0</td>\n",
       "      <td>0</td>\n",
       "      <td>0</td>\n",
       "      <td>0</td>\n",
       "      <td>0</td>\n",
       "      <td>0</td>\n",
       "      <td>0</td>\n",
       "    </tr>\n",
       "    <tr>\n",
       "      <th>1</th>\n",
       "      <td>1</td>\n",
       "      <td>0</td>\n",
       "      <td>0</td>\n",
       "      <td>0</td>\n",
       "      <td>0</td>\n",
       "      <td>0</td>\n",
       "      <td>0</td>\n",
       "      <td>0</td>\n",
       "      <td>0</td>\n",
       "      <td>0</td>\n",
       "      <td>...</td>\n",
       "      <td>0</td>\n",
       "      <td>0</td>\n",
       "      <td>0</td>\n",
       "      <td>0</td>\n",
       "      <td>0</td>\n",
       "      <td>0</td>\n",
       "      <td>0</td>\n",
       "      <td>0</td>\n",
       "      <td>0</td>\n",
       "      <td>0</td>\n",
       "    </tr>\n",
       "    <tr>\n",
       "      <th>2</th>\n",
       "      <td>1</td>\n",
       "      <td>0</td>\n",
       "      <td>0</td>\n",
       "      <td>0</td>\n",
       "      <td>0</td>\n",
       "      <td>0</td>\n",
       "      <td>0</td>\n",
       "      <td>0</td>\n",
       "      <td>0</td>\n",
       "      <td>0</td>\n",
       "      <td>...</td>\n",
       "      <td>0</td>\n",
       "      <td>0</td>\n",
       "      <td>0</td>\n",
       "      <td>0</td>\n",
       "      <td>0</td>\n",
       "      <td>0</td>\n",
       "      <td>0</td>\n",
       "      <td>0</td>\n",
       "      <td>0</td>\n",
       "      <td>0</td>\n",
       "    </tr>\n",
       "    <tr>\n",
       "      <th>3</th>\n",
       "      <td>1</td>\n",
       "      <td>0</td>\n",
       "      <td>0</td>\n",
       "      <td>0</td>\n",
       "      <td>0</td>\n",
       "      <td>0</td>\n",
       "      <td>0</td>\n",
       "      <td>0</td>\n",
       "      <td>0</td>\n",
       "      <td>0</td>\n",
       "      <td>...</td>\n",
       "      <td>0</td>\n",
       "      <td>0</td>\n",
       "      <td>0</td>\n",
       "      <td>0</td>\n",
       "      <td>0</td>\n",
       "      <td>0</td>\n",
       "      <td>0</td>\n",
       "      <td>0</td>\n",
       "      <td>0</td>\n",
       "      <td>0</td>\n",
       "    </tr>\n",
       "    <tr>\n",
       "      <th>5</th>\n",
       "      <td>1</td>\n",
       "      <td>0</td>\n",
       "      <td>0</td>\n",
       "      <td>0</td>\n",
       "      <td>0</td>\n",
       "      <td>0</td>\n",
       "      <td>0</td>\n",
       "      <td>0</td>\n",
       "      <td>0</td>\n",
       "      <td>0</td>\n",
       "      <td>...</td>\n",
       "      <td>0</td>\n",
       "      <td>0</td>\n",
       "      <td>0</td>\n",
       "      <td>0</td>\n",
       "      <td>0</td>\n",
       "      <td>0</td>\n",
       "      <td>0</td>\n",
       "      <td>0</td>\n",
       "      <td>0</td>\n",
       "      <td>0</td>\n",
       "    </tr>\n",
       "  </tbody>\n",
       "</table>\n",
       "<p>5 rows × 22 columns</p>\n",
       "</div>"
      ],
      "text/plain": [
       "   AB Chowk  Amanora Town  Ambegaon  Balaji Nagar  Baner  Bibwewadi  \\\n",
       "0         1             0         0             0      0          0   \n",
       "1         1             0         0             0      0          0   \n",
       "2         1             0         0             0      0          0   \n",
       "3         1             0         0             0      0          0   \n",
       "5         1             0         0             0      0          0   \n",
       "\n",
       "   Budhwar Peth  Bund Garden  Camp  Deccan Gymkhana  ...  Hadapsar  \\\n",
       "0             0            0     0                0  ...         0   \n",
       "1             0            0     0                0  ...         0   \n",
       "2             0            0     0                0  ...         0   \n",
       "3             0            0     0                0  ...         0   \n",
       "5             0            0     0                0  ...         0   \n",
       "\n",
       "   Karve Nagar  Katraj  Kondhwa  Koregaon Park  Padmavati  Shivaji Nagar  \\\n",
       "0            0       0        0              0          0              0   \n",
       "1            0       0        0              0          0              0   \n",
       "2            0       0        0              0          0              0   \n",
       "3            0       0        0              0          0              0   \n",
       "5            0       0        0              0          0              0   \n",
       "\n",
       "   Sinhgad Road  Swargate  other  \n",
       "0             0         0      0  \n",
       "1             0         0      0  \n",
       "2             0         0      0  \n",
       "3             0         0      0  \n",
       "5             0         0      0  \n",
       "\n",
       "[5 rows x 22 columns]"
      ]
     },
     "execution_count": 42,
     "metadata": {},
     "output_type": "execute_result"
    }
   ],
   "source": [
    "dummies = pd.get_dummies(df9.location)\n",
    "dummies.head()"
   ]
  },
  {
   "cell_type": "code",
   "execution_count": 43,
   "metadata": {},
   "outputs": [
    {
     "data": {
      "text/html": [
       "<div>\n",
       "<style scoped>\n",
       "    .dataframe tbody tr th:only-of-type {\n",
       "        vertical-align: middle;\n",
       "    }\n",
       "\n",
       "    .dataframe tbody tr th {\n",
       "        vertical-align: top;\n",
       "    }\n",
       "\n",
       "    .dataframe thead th {\n",
       "        text-align: right;\n",
       "    }\n",
       "</style>\n",
       "<table border=\"1\" class=\"dataframe\">\n",
       "  <thead>\n",
       "    <tr style=\"text-align: right;\">\n",
       "      <th></th>\n",
       "      <th>location</th>\n",
       "      <th>Baths</th>\n",
       "      <th>total_sqft</th>\n",
       "      <th>price</th>\n",
       "      <th>bhk</th>\n",
       "      <th>AB Chowk</th>\n",
       "      <th>Amanora Town</th>\n",
       "      <th>Ambegaon</th>\n",
       "      <th>Balaji Nagar</th>\n",
       "      <th>Baner</th>\n",
       "      <th>...</th>\n",
       "      <th>FC Road</th>\n",
       "      <th>Hadapsar</th>\n",
       "      <th>Karve Nagar</th>\n",
       "      <th>Katraj</th>\n",
       "      <th>Kondhwa</th>\n",
       "      <th>Koregaon Park</th>\n",
       "      <th>Padmavati</th>\n",
       "      <th>Shivaji Nagar</th>\n",
       "      <th>Sinhgad Road</th>\n",
       "      <th>Swargate</th>\n",
       "    </tr>\n",
       "  </thead>\n",
       "  <tbody>\n",
       "    <tr>\n",
       "      <th>0</th>\n",
       "      <td>AB Chowk</td>\n",
       "      <td>2.0</td>\n",
       "      <td>1143.0</td>\n",
       "      <td>45.000</td>\n",
       "      <td>2</td>\n",
       "      <td>1</td>\n",
       "      <td>0</td>\n",
       "      <td>0</td>\n",
       "      <td>0</td>\n",
       "      <td>0</td>\n",
       "      <td>...</td>\n",
       "      <td>0</td>\n",
       "      <td>0</td>\n",
       "      <td>0</td>\n",
       "      <td>0</td>\n",
       "      <td>0</td>\n",
       "      <td>0</td>\n",
       "      <td>0</td>\n",
       "      <td>0</td>\n",
       "      <td>0</td>\n",
       "      <td>0</td>\n",
       "    </tr>\n",
       "    <tr>\n",
       "      <th>1</th>\n",
       "      <td>AB Chowk</td>\n",
       "      <td>1.0</td>\n",
       "      <td>600.0</td>\n",
       "      <td>38.000</td>\n",
       "      <td>1</td>\n",
       "      <td>1</td>\n",
       "      <td>0</td>\n",
       "      <td>0</td>\n",
       "      <td>0</td>\n",
       "      <td>0</td>\n",
       "      <td>...</td>\n",
       "      <td>0</td>\n",
       "      <td>0</td>\n",
       "      <td>0</td>\n",
       "      <td>0</td>\n",
       "      <td>0</td>\n",
       "      <td>0</td>\n",
       "      <td>0</td>\n",
       "      <td>0</td>\n",
       "      <td>0</td>\n",
       "      <td>0</td>\n",
       "    </tr>\n",
       "    <tr>\n",
       "      <th>2</th>\n",
       "      <td>AB Chowk</td>\n",
       "      <td>2.0</td>\n",
       "      <td>950.0</td>\n",
       "      <td>57.000</td>\n",
       "      <td>2</td>\n",
       "      <td>1</td>\n",
       "      <td>0</td>\n",
       "      <td>0</td>\n",
       "      <td>0</td>\n",
       "      <td>0</td>\n",
       "      <td>...</td>\n",
       "      <td>0</td>\n",
       "      <td>0</td>\n",
       "      <td>0</td>\n",
       "      <td>0</td>\n",
       "      <td>0</td>\n",
       "      <td>0</td>\n",
       "      <td>0</td>\n",
       "      <td>0</td>\n",
       "      <td>0</td>\n",
       "      <td>0</td>\n",
       "    </tr>\n",
       "    <tr>\n",
       "      <th>3</th>\n",
       "      <td>AB Chowk</td>\n",
       "      <td>2.0</td>\n",
       "      <td>1073.5</td>\n",
       "      <td>54.005</td>\n",
       "      <td>2</td>\n",
       "      <td>1</td>\n",
       "      <td>0</td>\n",
       "      <td>0</td>\n",
       "      <td>0</td>\n",
       "      <td>0</td>\n",
       "      <td>...</td>\n",
       "      <td>0</td>\n",
       "      <td>0</td>\n",
       "      <td>0</td>\n",
       "      <td>0</td>\n",
       "      <td>0</td>\n",
       "      <td>0</td>\n",
       "      <td>0</td>\n",
       "      <td>0</td>\n",
       "      <td>0</td>\n",
       "      <td>0</td>\n",
       "    </tr>\n",
       "    <tr>\n",
       "      <th>5</th>\n",
       "      <td>AB Chowk</td>\n",
       "      <td>2.0</td>\n",
       "      <td>1148.0</td>\n",
       "      <td>60.000</td>\n",
       "      <td>2</td>\n",
       "      <td>1</td>\n",
       "      <td>0</td>\n",
       "      <td>0</td>\n",
       "      <td>0</td>\n",
       "      <td>0</td>\n",
       "      <td>...</td>\n",
       "      <td>0</td>\n",
       "      <td>0</td>\n",
       "      <td>0</td>\n",
       "      <td>0</td>\n",
       "      <td>0</td>\n",
       "      <td>0</td>\n",
       "      <td>0</td>\n",
       "      <td>0</td>\n",
       "      <td>0</td>\n",
       "      <td>0</td>\n",
       "    </tr>\n",
       "  </tbody>\n",
       "</table>\n",
       "<p>5 rows × 26 columns</p>\n",
       "</div>"
      ],
      "text/plain": [
       "   location  Baths  total_sqft   price  bhk  AB Chowk  Amanora Town  Ambegaon  \\\n",
       "0  AB Chowk    2.0      1143.0  45.000    2         1             0         0   \n",
       "1  AB Chowk    1.0       600.0  38.000    1         1             0         0   \n",
       "2  AB Chowk    2.0       950.0  57.000    2         1             0         0   \n",
       "3  AB Chowk    2.0      1073.5  54.005    2         1             0         0   \n",
       "5  AB Chowk    2.0      1148.0  60.000    2         1             0         0   \n",
       "\n",
       "   Balaji Nagar  Baner  ...  FC Road  Hadapsar  Karve Nagar  Katraj  Kondhwa  \\\n",
       "0             0      0  ...        0         0            0       0        0   \n",
       "1             0      0  ...        0         0            0       0        0   \n",
       "2             0      0  ...        0         0            0       0        0   \n",
       "3             0      0  ...        0         0            0       0        0   \n",
       "5             0      0  ...        0         0            0       0        0   \n",
       "\n",
       "   Koregaon Park  Padmavati  Shivaji Nagar  Sinhgad Road  Swargate  \n",
       "0              0          0              0             0         0  \n",
       "1              0          0              0             0         0  \n",
       "2              0          0              0             0         0  \n",
       "3              0          0              0             0         0  \n",
       "5              0          0              0             0         0  \n",
       "\n",
       "[5 rows x 26 columns]"
      ]
     },
     "execution_count": 43,
     "metadata": {},
     "output_type": "execute_result"
    }
   ],
   "source": [
    "df10 = pd.concat([df9, dummies.drop('other',axis='columns')], axis='columns')\n",
    "df10.head()"
   ]
  },
  {
   "cell_type": "code",
   "execution_count": 44,
   "metadata": {},
   "outputs": [
    {
     "data": {
      "text/plain": [
       "(853, 26)"
      ]
     },
     "execution_count": 44,
     "metadata": {},
     "output_type": "execute_result"
    }
   ],
   "source": [
    "df10.shape"
   ]
  },
  {
   "cell_type": "code",
   "execution_count": 45,
   "metadata": {},
   "outputs": [
    {
     "data": {
      "text/plain": [
       "(853, 25)"
      ]
     },
     "execution_count": 45,
     "metadata": {},
     "output_type": "execute_result"
    }
   ],
   "source": [
    "df11 = df10.drop(['location'], axis='columns')\n",
    "df11.shape"
   ]
  },
  {
   "cell_type": "markdown",
   "metadata": {},
   "source": [
    "## Model Building"
   ]
  },
  {
   "cell_type": "code",
   "execution_count": 46,
   "metadata": {},
   "outputs": [
    {
     "data": {
      "text/plain": [
       "(853, 24)"
      ]
     },
     "execution_count": 46,
     "metadata": {},
     "output_type": "execute_result"
    }
   ],
   "source": [
    "X = df11.drop(['price'], axis='columns')\n",
    "X.shape"
   ]
  },
  {
   "cell_type": "code",
   "execution_count": 47,
   "metadata": {},
   "outputs": [
    {
     "data": {
      "text/plain": [
       "0    45.000\n",
       "1    38.000\n",
       "2    57.000\n",
       "3    54.005\n",
       "5    60.000\n",
       "Name: price, dtype: float64"
      ]
     },
     "execution_count": 47,
     "metadata": {},
     "output_type": "execute_result"
    }
   ],
   "source": [
    "y = df11.price\n",
    "y.head()"
   ]
  },
  {
   "cell_type": "code",
   "execution_count": 48,
   "metadata": {},
   "outputs": [
    {
     "data": {
      "text/plain": [
       "(853,)"
      ]
     },
     "execution_count": 48,
     "metadata": {},
     "output_type": "execute_result"
    }
   ],
   "source": [
    "y.shape"
   ]
  },
  {
   "cell_type": "code",
   "execution_count": 49,
   "metadata": {},
   "outputs": [],
   "source": [
    "from sklearn.model_selection import train_test_split\n",
    "X_train, X_test, y_train, y_test = train_test_split(X, y, test_size=0.2, random_state=10)"
   ]
  },
  {
   "cell_type": "code",
   "execution_count": 50,
   "metadata": {},
   "outputs": [
    {
     "data": {
      "text/plain": [
       "0.8764298186298418"
      ]
     },
     "execution_count": 50,
     "metadata": {},
     "output_type": "execute_result"
    }
   ],
   "source": [
    "from sklearn.linear_model import LinearRegression\n",
    "lr_clf = LinearRegression()\n",
    "lr_clf.fit(X_train,y_train)\n",
    "lr_clf.score(X_test,y_test)"
   ]
  },
  {
   "cell_type": "markdown",
   "metadata": {},
   "source": [
    "## Use K Fold cross validation to measure accuracy of our LinearRegression model"
   ]
  },
  {
   "cell_type": "code",
   "execution_count": 51,
   "metadata": {},
   "outputs": [
    {
     "data": {
      "text/plain": [
       "array([0.79556763, 0.80615298, 0.85066324, 0.84201353, 0.85224093])"
      ]
     },
     "execution_count": 51,
     "metadata": {},
     "output_type": "execute_result"
    }
   ],
   "source": [
    "from sklearn.model_selection import ShuffleSplit\n",
    "from sklearn.model_selection import cross_val_score\n",
    "\n",
    "cv = ShuffleSplit(n_splits=5, test_size=0.2, random_state=0)\n",
    "\n",
    "cross_val_score(LinearRegression(), X, y, cv=cv)"
   ]
  },
  {
   "cell_type": "markdown",
   "metadata": {},
   "source": [
    "We can see that in 5 iterations we get a score above 80% all the time. This is pretty good but we want to test few other algorithms for regression to see if we can get even better score. We will use GridSearchCV for this purpose"
   ]
  },
  {
   "cell_type": "markdown",
   "metadata": {},
   "source": [
    "## Find best model using GridSearchCV"
   ]
  },
  {
   "cell_type": "code",
   "execution_count": 52,
   "metadata": {},
   "outputs": [
    {
     "name": "stderr",
     "output_type": "stream",
     "text": [
      "C:\\Users\\mruge\\anaconda3\\lib\\site-packages\\sklearn\\linear_model\\_base.py:141: FutureWarning: 'normalize' was deprecated in version 1.0 and will be removed in 1.2.\n",
      "If you wish to scale the data, use Pipeline with a StandardScaler in a preprocessing stage. To reproduce the previous behavior:\n",
      "\n",
      "from sklearn.pipeline import make_pipeline\n",
      "\n",
      "model = make_pipeline(StandardScaler(with_mean=False), LinearRegression())\n",
      "\n",
      "If you wish to pass a sample_weight parameter, you need to pass it as a fit parameter to each step of the pipeline as follows:\n",
      "\n",
      "kwargs = {s[0] + '__sample_weight': sample_weight for s in model.steps}\n",
      "model.fit(X, y, **kwargs)\n",
      "\n",
      "\n",
      "  warnings.warn(\n",
      "C:\\Users\\mruge\\anaconda3\\lib\\site-packages\\sklearn\\linear_model\\_base.py:141: FutureWarning: 'normalize' was deprecated in version 1.0 and will be removed in 1.2.\n",
      "If you wish to scale the data, use Pipeline with a StandardScaler in a preprocessing stage. To reproduce the previous behavior:\n",
      "\n",
      "from sklearn.pipeline import make_pipeline\n",
      "\n",
      "model = make_pipeline(StandardScaler(with_mean=False), LinearRegression())\n",
      "\n",
      "If you wish to pass a sample_weight parameter, you need to pass it as a fit parameter to each step of the pipeline as follows:\n",
      "\n",
      "kwargs = {s[0] + '__sample_weight': sample_weight for s in model.steps}\n",
      "model.fit(X, y, **kwargs)\n",
      "\n",
      "\n",
      "  warnings.warn(\n",
      "C:\\Users\\mruge\\anaconda3\\lib\\site-packages\\sklearn\\linear_model\\_base.py:141: FutureWarning: 'normalize' was deprecated in version 1.0 and will be removed in 1.2.\n",
      "If you wish to scale the data, use Pipeline with a StandardScaler in a preprocessing stage. To reproduce the previous behavior:\n",
      "\n",
      "from sklearn.pipeline import make_pipeline\n",
      "\n",
      "model = make_pipeline(StandardScaler(with_mean=False), LinearRegression())\n",
      "\n",
      "If you wish to pass a sample_weight parameter, you need to pass it as a fit parameter to each step of the pipeline as follows:\n",
      "\n",
      "kwargs = {s[0] + '__sample_weight': sample_weight for s in model.steps}\n",
      "model.fit(X, y, **kwargs)\n",
      "\n",
      "\n",
      "  warnings.warn(\n",
      "C:\\Users\\mruge\\anaconda3\\lib\\site-packages\\sklearn\\linear_model\\_base.py:141: FutureWarning: 'normalize' was deprecated in version 1.0 and will be removed in 1.2.\n",
      "If you wish to scale the data, use Pipeline with a StandardScaler in a preprocessing stage. To reproduce the previous behavior:\n",
      "\n",
      "from sklearn.pipeline import make_pipeline\n",
      "\n",
      "model = make_pipeline(StandardScaler(with_mean=False), LinearRegression())\n",
      "\n",
      "If you wish to pass a sample_weight parameter, you need to pass it as a fit parameter to each step of the pipeline as follows:\n",
      "\n",
      "kwargs = {s[0] + '__sample_weight': sample_weight for s in model.steps}\n",
      "model.fit(X, y, **kwargs)\n",
      "\n",
      "\n",
      "  warnings.warn(\n",
      "C:\\Users\\mruge\\anaconda3\\lib\\site-packages\\sklearn\\linear_model\\_base.py:141: FutureWarning: 'normalize' was deprecated in version 1.0 and will be removed in 1.2.\n",
      "If you wish to scale the data, use Pipeline with a StandardScaler in a preprocessing stage. To reproduce the previous behavior:\n",
      "\n",
      "from sklearn.pipeline import make_pipeline\n",
      "\n",
      "model = make_pipeline(StandardScaler(with_mean=False), LinearRegression())\n",
      "\n",
      "If you wish to pass a sample_weight parameter, you need to pass it as a fit parameter to each step of the pipeline as follows:\n",
      "\n",
      "kwargs = {s[0] + '__sample_weight': sample_weight for s in model.steps}\n",
      "model.fit(X, y, **kwargs)\n",
      "\n",
      "\n",
      "  warnings.warn(\n",
      "C:\\Users\\mruge\\anaconda3\\lib\\site-packages\\sklearn\\linear_model\\_base.py:148: FutureWarning: 'normalize' was deprecated in version 1.0 and will be removed in 1.2. Please leave the normalize parameter to its default value to silence this warning. The default behavior of this estimator is to not do any normalization. If normalization is needed please use sklearn.preprocessing.StandardScaler instead.\n",
      "  warnings.warn(\n",
      "C:\\Users\\mruge\\anaconda3\\lib\\site-packages\\sklearn\\linear_model\\_base.py:148: FutureWarning: 'normalize' was deprecated in version 1.0 and will be removed in 1.2. Please leave the normalize parameter to its default value to silence this warning. The default behavior of this estimator is to not do any normalization. If normalization is needed please use sklearn.preprocessing.StandardScaler instead.\n",
      "  warnings.warn(\n",
      "C:\\Users\\mruge\\anaconda3\\lib\\site-packages\\sklearn\\linear_model\\_base.py:148: FutureWarning: 'normalize' was deprecated in version 1.0 and will be removed in 1.2. Please leave the normalize parameter to its default value to silence this warning. The default behavior of this estimator is to not do any normalization. If normalization is needed please use sklearn.preprocessing.StandardScaler instead.\n",
      "  warnings.warn(\n",
      "C:\\Users\\mruge\\anaconda3\\lib\\site-packages\\sklearn\\linear_model\\_base.py:148: FutureWarning: 'normalize' was deprecated in version 1.0 and will be removed in 1.2. Please leave the normalize parameter to its default value to silence this warning. The default behavior of this estimator is to not do any normalization. If normalization is needed please use sklearn.preprocessing.StandardScaler instead.\n",
      "  warnings.warn(\n",
      "C:\\Users\\mruge\\anaconda3\\lib\\site-packages\\sklearn\\linear_model\\_base.py:148: FutureWarning: 'normalize' was deprecated in version 1.0 and will be removed in 1.2. Please leave the normalize parameter to its default value to silence this warning. The default behavior of this estimator is to not do any normalization. If normalization is needed please use sklearn.preprocessing.StandardScaler instead.\n",
      "  warnings.warn(\n",
      "C:\\Users\\mruge\\anaconda3\\lib\\site-packages\\sklearn\\linear_model\\_base.py:141: FutureWarning: 'normalize' was deprecated in version 1.0 and will be removed in 1.2.\n",
      "If you wish to scale the data, use Pipeline with a StandardScaler in a preprocessing stage. To reproduce the previous behavior:\n",
      "\n",
      "from sklearn.pipeline import make_pipeline\n",
      "\n",
      "model = make_pipeline(StandardScaler(with_mean=False), LinearRegression())\n",
      "\n",
      "If you wish to pass a sample_weight parameter, you need to pass it as a fit parameter to each step of the pipeline as follows:\n",
      "\n",
      "kwargs = {s[0] + '__sample_weight': sample_weight for s in model.steps}\n",
      "model.fit(X, y, **kwargs)\n",
      "\n",
      "\n",
      "  warnings.warn(\n",
      "C:\\Users\\mruge\\anaconda3\\lib\\site-packages\\sklearn\\tree\\_classes.py:359: FutureWarning: Criterion 'mse' was deprecated in v1.0 and will be removed in version 1.2. Use `criterion='squared_error'` which is equivalent.\n",
      "  warnings.warn(\n",
      "C:\\Users\\mruge\\anaconda3\\lib\\site-packages\\sklearn\\tree\\_classes.py:359: FutureWarning: Criterion 'mse' was deprecated in v1.0 and will be removed in version 1.2. Use `criterion='squared_error'` which is equivalent.\n",
      "  warnings.warn(\n",
      "C:\\Users\\mruge\\anaconda3\\lib\\site-packages\\sklearn\\tree\\_classes.py:359: FutureWarning: Criterion 'mse' was deprecated in v1.0 and will be removed in version 1.2. Use `criterion='squared_error'` which is equivalent.\n",
      "  warnings.warn(\n",
      "C:\\Users\\mruge\\anaconda3\\lib\\site-packages\\sklearn\\tree\\_classes.py:359: FutureWarning: Criterion 'mse' was deprecated in v1.0 and will be removed in version 1.2. Use `criterion='squared_error'` which is equivalent.\n",
      "  warnings.warn(\n",
      "C:\\Users\\mruge\\anaconda3\\lib\\site-packages\\sklearn\\tree\\_classes.py:359: FutureWarning: Criterion 'mse' was deprecated in v1.0 and will be removed in version 1.2. Use `criterion='squared_error'` which is equivalent.\n",
      "  warnings.warn(\n",
      "C:\\Users\\mruge\\anaconda3\\lib\\site-packages\\sklearn\\tree\\_classes.py:359: FutureWarning: Criterion 'mse' was deprecated in v1.0 and will be removed in version 1.2. Use `criterion='squared_error'` which is equivalent.\n",
      "  warnings.warn(\n",
      "C:\\Users\\mruge\\anaconda3\\lib\\site-packages\\sklearn\\tree\\_classes.py:359: FutureWarning: Criterion 'mse' was deprecated in v1.0 and will be removed in version 1.2. Use `criterion='squared_error'` which is equivalent.\n",
      "  warnings.warn(\n",
      "C:\\Users\\mruge\\anaconda3\\lib\\site-packages\\sklearn\\tree\\_classes.py:359: FutureWarning: Criterion 'mse' was deprecated in v1.0 and will be removed in version 1.2. Use `criterion='squared_error'` which is equivalent.\n",
      "  warnings.warn(\n",
      "C:\\Users\\mruge\\anaconda3\\lib\\site-packages\\sklearn\\tree\\_classes.py:359: FutureWarning: Criterion 'mse' was deprecated in v1.0 and will be removed in version 1.2. Use `criterion='squared_error'` which is equivalent.\n",
      "  warnings.warn(\n",
      "C:\\Users\\mruge\\anaconda3\\lib\\site-packages\\sklearn\\tree\\_classes.py:359: FutureWarning: Criterion 'mse' was deprecated in v1.0 and will be removed in version 1.2. Use `criterion='squared_error'` which is equivalent.\n",
      "  warnings.warn(\n"
     ]
    },
    {
     "data": {
      "text/html": [
       "<div>\n",
       "<style scoped>\n",
       "    .dataframe tbody tr th:only-of-type {\n",
       "        vertical-align: middle;\n",
       "    }\n",
       "\n",
       "    .dataframe tbody tr th {\n",
       "        vertical-align: top;\n",
       "    }\n",
       "\n",
       "    .dataframe thead th {\n",
       "        text-align: right;\n",
       "    }\n",
       "</style>\n",
       "<table border=\"1\" class=\"dataframe\">\n",
       "  <thead>\n",
       "    <tr style=\"text-align: right;\">\n",
       "      <th></th>\n",
       "      <th>model</th>\n",
       "      <th>best_score</th>\n",
       "      <th>best_params</th>\n",
       "    </tr>\n",
       "  </thead>\n",
       "  <tbody>\n",
       "    <tr>\n",
       "      <th>0</th>\n",
       "      <td>linear_regression</td>\n",
       "      <td>0.829328</td>\n",
       "      <td>{'normalize': True}</td>\n",
       "    </tr>\n",
       "    <tr>\n",
       "      <th>1</th>\n",
       "      <td>lasso</td>\n",
       "      <td>0.812054</td>\n",
       "      <td>{'alpha': 1, 'selection': 'random'}</td>\n",
       "    </tr>\n",
       "    <tr>\n",
       "      <th>2</th>\n",
       "      <td>decision_tree</td>\n",
       "      <td>0.784659</td>\n",
       "      <td>{'criterion': 'friedman_mse', 'splitter': 'best'}</td>\n",
       "    </tr>\n",
       "  </tbody>\n",
       "</table>\n",
       "</div>"
      ],
      "text/plain": [
       "               model  best_score  \\\n",
       "0  linear_regression    0.829328   \n",
       "1              lasso    0.812054   \n",
       "2      decision_tree    0.784659   \n",
       "\n",
       "                                         best_params  \n",
       "0                                {'normalize': True}  \n",
       "1                {'alpha': 1, 'selection': 'random'}  \n",
       "2  {'criterion': 'friedman_mse', 'splitter': 'best'}  "
      ]
     },
     "execution_count": 52,
     "metadata": {},
     "output_type": "execute_result"
    }
   ],
   "source": [
    "from sklearn.model_selection import GridSearchCV\n",
    "\n",
    "from sklearn.linear_model import Lasso\n",
    "from sklearn.tree import DecisionTreeRegressor\n",
    "\n",
    "def find_best_model_using_gridsearchcv(X,y):\n",
    "    algos = {\n",
    "        'linear_regression' : {\n",
    "            'model': LinearRegression(),\n",
    "            'params': {\n",
    "                'normalize': [True, False]\n",
    "            }\n",
    "        },\n",
    "        'lasso': {\n",
    "            'model': Lasso(),\n",
    "            'params': {\n",
    "                'alpha': [1,2],\n",
    "                'selection': ['random', 'cyclic']\n",
    "            }\n",
    "        },\n",
    "        'decision_tree': {\n",
    "            'model': DecisionTreeRegressor(),\n",
    "            'params': {\n",
    "                'criterion' : ['mse','friedman_mse'],\n",
    "                'splitter': ['best','random']\n",
    "            }\n",
    "        }\n",
    "    }\n",
    "    scores = []\n",
    "    cv = ShuffleSplit(n_splits=5, test_size=0.2, random_state=0)\n",
    "    for algo_name, config in algos.items():\n",
    "        gs =  GridSearchCV(config['model'], config['params'], cv=cv, return_train_score=False)\n",
    "        gs.fit(X.values,y.values)\n",
    "        scores.append({\n",
    "            'model': algo_name,\n",
    "            'best_score': gs.best_score_,\n",
    "            'best_params': gs.best_params_\n",
    "        })\n",
    "\n",
    "    return pd.DataFrame(scores,columns=['model','best_score','best_params'])\n",
    "\n",
    "find_best_model_using_gridsearchcv(X,y)\n"
   ]
  },
  {
   "cell_type": "markdown",
   "metadata": {},
   "source": [
    "#### Based on above results we can say that LinearRegression gives the best score. Hence we will use that."
   ]
  },
  {
   "cell_type": "markdown",
   "metadata": {},
   "source": [
    "## Test the model for few properties"
   ]
  },
  {
   "cell_type": "code",
   "execution_count": 53,
   "metadata": {},
   "outputs": [
    {
     "data": {
      "text/plain": [
       "Index(['Baths', 'total_sqft', 'bhk', 'AB Chowk', 'Amanora Town', 'Ambegaon',\n",
       "       'Balaji Nagar', 'Baner', 'Bibwewadi', 'Budhwar Peth', 'Bund Garden',\n",
       "       'Camp', 'Deccan Gymkhana', 'Dhankawadi', 'FC Road', 'Hadapsar',\n",
       "       'Karve Nagar', 'Katraj', 'Kondhwa', 'Koregaon Park', 'Padmavati',\n",
       "       'Shivaji Nagar', 'Sinhgad Road', 'Swargate'],\n",
       "      dtype='object')"
      ]
     },
     "execution_count": 53,
     "metadata": {},
     "output_type": "execute_result"
    }
   ],
   "source": [
    "X.columns"
   ]
  },
  {
   "cell_type": "code",
   "execution_count": 54,
   "metadata": {},
   "outputs": [],
   "source": [
    "def price_predict(location,area,bath,bhk):\n",
    "    x = np.zeros(len(X.columns))\n",
    "    x[0] = bath\n",
    "    x[1] = area\n",
    "    x[2] = bhk\n",
    "    if location !='other':\n",
    "        x[np.where(X.columns == location)[0][0]] = 1\n",
    "    return lr_clf.predict([x])[0]\n"
   ]
  },
  {
   "cell_type": "code",
   "execution_count": 55,
   "metadata": {},
   "outputs": [
    {
     "name": "stderr",
     "output_type": "stream",
     "text": [
      "C:\\Users\\mruge\\anaconda3\\lib\\site-packages\\sklearn\\base.py:441: UserWarning: X does not have valid feature names, but LinearRegression was fitted with feature names\n",
      "  warnings.warn(\n"
     ]
    },
    {
     "data": {
      "text/plain": [
       "44.91922101959534"
      ]
     },
     "execution_count": 55,
     "metadata": {},
     "output_type": "execute_result"
    }
   ],
   "source": [
    "price_predict('Hadapsar', 800, 2, 2)"
   ]
  },
  {
   "cell_type": "code",
   "execution_count": 56,
   "metadata": {},
   "outputs": [
    {
     "name": "stderr",
     "output_type": "stream",
     "text": [
      "C:\\Users\\mruge\\anaconda3\\lib\\site-packages\\sklearn\\base.py:441: UserWarning: X does not have valid feature names, but LinearRegression was fitted with feature names\n",
      "  warnings.warn(\n"
     ]
    },
    {
     "data": {
      "text/plain": [
       "73.40040860663606"
      ]
     },
     "execution_count": 56,
     "metadata": {},
     "output_type": "execute_result"
    }
   ],
   "source": [
    "price_predict('Koregaon Park', 1200, 3, 3)"
   ]
  },
  {
   "cell_type": "code",
   "execution_count": 57,
   "metadata": {},
   "outputs": [
    {
     "name": "stderr",
     "output_type": "stream",
     "text": [
      "C:\\Users\\mruge\\anaconda3\\lib\\site-packages\\sklearn\\base.py:441: UserWarning: X does not have valid feature names, but LinearRegression was fitted with feature names\n",
      "  warnings.warn(\n"
     ]
    },
    {
     "data": {
      "text/plain": [
       "47.29444640167131"
      ]
     },
     "execution_count": 57,
     "metadata": {},
     "output_type": "execute_result"
    }
   ],
   "source": [
    "price_predict('Koregaon Park', 800, 2, 2)"
   ]
  },
  {
   "cell_type": "code",
   "execution_count": 58,
   "metadata": {},
   "outputs": [
    {
     "name": "stderr",
     "output_type": "stream",
     "text": [
      "C:\\Users\\mruge\\anaconda3\\lib\\site-packages\\sklearn\\base.py:441: UserWarning: X does not have valid feature names, but LinearRegression was fitted with feature names\n",
      "  warnings.warn(\n"
     ]
    },
    {
     "data": {
      "text/plain": [
       "53.70742657714971"
      ]
     },
     "execution_count": 58,
     "metadata": {},
     "output_type": "execute_result"
    }
   ],
   "source": [
    "price_predict('Koregaon Park', 800, 3, 2)"
   ]
  },
  {
   "cell_type": "code",
   "execution_count": 59,
   "metadata": {},
   "outputs": [],
   "source": [
    "import pickle\n",
    "pickle.dump(lr_clf,open('model.pkl','wb'))\n",
    "pickle.dump(X,open('df.pkl','wb'))"
   ]
  },
  {
   "cell_type": "code",
   "execution_count": null,
   "metadata": {},
   "outputs": [],
   "source": []
  },
  {
   "cell_type": "code",
   "execution_count": 60,
   "metadata": {},
   "outputs": [
    {
     "data": {
      "text/plain": [
       "['AB Chowk',\n",
       " 'Amanora Town',\n",
       " 'Ambegaon',\n",
       " 'Balaji Nagar',\n",
       " 'Baner',\n",
       " 'Bibwewadi',\n",
       " 'Budhwar Peth',\n",
       " 'Bund Garden',\n",
       " 'Camp',\n",
       " 'Deccan Gymkhana',\n",
       " 'Dhankawadi',\n",
       " 'FC Road',\n",
       " 'Hadapsar',\n",
       " 'Karve Nagar',\n",
       " 'Katraj',\n",
       " 'Kondhwa',\n",
       " 'Koregaon Park',\n",
       " 'Padmavati',\n",
       " 'Shivaji Nagar',\n",
       " 'Sinhgad Road',\n",
       " 'Swargate',\n",
       " 'other']"
      ]
     },
     "execution_count": 60,
     "metadata": {},
     "output_type": "execute_result"
    }
   ],
   "source": [
    "area_loc = list(df10['location'].unique())\n",
    "area_loc"
   ]
  },
  {
   "cell_type": "code",
   "execution_count": 61,
   "metadata": {},
   "outputs": [],
   "source": [
    "pickle.dump(area_loc, open('location.pkl', 'wb'))"
   ]
  },
  {
   "cell_type": "code",
   "execution_count": 62,
   "metadata": {},
   "outputs": [],
   "source": [
    "columns = {'columns':[x.lower() for x in X.columns]}"
   ]
  },
  {
   "cell_type": "code",
   "execution_count": 63,
   "metadata": {},
   "outputs": [],
   "source": [
    "#pickle.dump(columns,open('loacation.pkl','wb'))"
   ]
  },
  {
   "cell_type": "code",
   "execution_count": 64,
   "metadata": {},
   "outputs": [
    {
     "data": {
      "text/plain": [
       "Index(['AB Chowk', 'Amanora Town', 'Ambegaon', 'Balaji Nagar', 'Baner',\n",
       "       'Bibwewadi', 'Budhwar Peth', 'Bund Garden', 'Camp', 'Deccan Gymkhana',\n",
       "       'Dhankawadi', 'FC Road', 'Hadapsar', 'Karve Nagar', 'Katraj', 'Kondhwa',\n",
       "       'Koregaon Park', 'Padmavati', 'Shivaji Nagar', 'Sinhgad Road',\n",
       "       'Swargate', 'other'],\n",
       "      dtype='object')"
      ]
     },
     "execution_count": 64,
     "metadata": {},
     "output_type": "execute_result"
    }
   ],
   "source": [
    "dummies.columns"
   ]
  },
  {
   "cell_type": "code",
   "execution_count": 65,
   "metadata": {},
   "outputs": [
    {
     "data": {
      "text/plain": [
       "{'columns': ['baths',\n",
       "  'total_sqft',\n",
       "  'bhk',\n",
       "  'ab chowk',\n",
       "  'amanora town',\n",
       "  'ambegaon',\n",
       "  'balaji nagar',\n",
       "  'baner',\n",
       "  'bibwewadi',\n",
       "  'budhwar peth',\n",
       "  'bund garden',\n",
       "  'camp',\n",
       "  'deccan gymkhana',\n",
       "  'dhankawadi',\n",
       "  'fc road',\n",
       "  'hadapsar',\n",
       "  'karve nagar',\n",
       "  'katraj',\n",
       "  'kondhwa',\n",
       "  'koregaon park',\n",
       "  'padmavati',\n",
       "  'shivaji nagar',\n",
       "  'sinhgad road',\n",
       "  'swargate']}"
      ]
     },
     "execution_count": 65,
     "metadata": {},
     "output_type": "execute_result"
    }
   ],
   "source": [
    "columns"
   ]
  },
  {
   "cell_type": "code",
   "execution_count": null,
   "metadata": {},
   "outputs": [],
   "source": []
  }
 ],
 "metadata": {
  "kernelspec": {
   "display_name": "Python 3",
   "language": "python",
   "name": "python3"
  },
  "language_info": {
   "codemirror_mode": {
    "name": "ipython",
    "version": 3
   },
   "file_extension": ".py",
   "mimetype": "text/x-python",
   "name": "python",
   "nbconvert_exporter": "python",
   "pygments_lexer": "ipython3",
   "version": "3.8.5"
  }
 },
 "nbformat": 4,
 "nbformat_minor": 4
}
